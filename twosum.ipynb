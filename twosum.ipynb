{
 "cells": [
  {
   "cell_type": "code",
   "execution_count": 2,
   "metadata": {},
   "outputs": [
    {
     "name": "stdout",
     "output_type": "stream",
     "text": [
      "[]\n"
     ]
    }
   ],
   "source": [
    "def twosum(nums,k):\n",
    "    length = len(nums)-1\n",
    "    results = []\n",
    "    for i in range(length):\n",
    "        for j in range (i,length):\n",
    "            if nums[i]+nums[j] == k:\n",
    "                print(f\"the numbers are : {nums[i]} {nums[j]}\")\n",
    "                results.append((nums[i], nums[j]))\n",
    "    return results\n",
    "\n",
    "print(twosum([2,3,6,5,9,2],88))\n",
    "#big o notation (must watch)\n",
    "#https://www.youtube.com/watch?v=BgLTDT03QtU\n"
   ]
  },
  {
   "cell_type": "code",
   "execution_count": 3,
   "metadata": {},
   "outputs": [
    {
     "data": {
      "text/plain": [
       "[1, 2, 3, 4, 5]"
      ]
     },
     "execution_count": 3,
     "metadata": {},
     "output_type": "execute_result"
    }
   ],
   "source": [
    "def findduplicate(nums):\n",
    "    s=set(nums)\n",
    "    # for num in nums:\n",
    "    #     if num in s:\n",
    "    #         break\n",
    "    #     else:\n",
    "    #         s.add(num)\n",
    "    return [i for i in s]\n",
    "\n",
    "findduplicate([1,2,4,5,3,2,1])\n",
    "\n"
   ]
  },
  {
   "cell_type": "code",
   "execution_count": 15,
   "metadata": {},
   "outputs": [
    {
     "name": "stdout",
     "output_type": "stream",
     "text": [
      "*\n",
      "**\n",
      "***\n",
      "****\n",
      "*****\n"
     ]
    }
   ],
   "source": [
    "def starpattern1(n):\n",
    "    for i in range(n):\n",
    "        print(\"*\" *( i + 1))\n",
    "        \n",
    "\n",
    "starpattern1(5)       \n"
   ]
  },
  {
   "cell_type": "code",
   "execution_count": 18,
   "metadata": {},
   "outputs": [
    {
     "name": "stdout",
     "output_type": "stream",
     "text": [
      "     \n",
      "    *\n",
      "   **\n",
      "  ***\n",
      " ****\n"
     ]
    }
   ],
   "source": [
    "def starpattern2(n):\n",
    "    for i in range(n):\n",
    "        print(\" \"*(n-i) + \"*\"*(i))\n",
    "\n",
    "\n",
    "starpattern2(5) \n"
   ]
  },
  {
   "cell_type": "code",
   "execution_count": 20,
   "metadata": {},
   "outputs": [
    {
     "name": "stdout",
     "output_type": "stream",
     "text": [
      "     *\n",
      "    ***\n",
      "   *****\n",
      "  *******\n",
      " *********\n"
     ]
    }
   ],
   "source": [
    "def starpattern3(n):\n",
    "    for i in range(n):\n",
    "        print(\" \"*(n-i) + \"*\"*(i) + \"*\" *(i+1))\n",
    "\n",
    "\n",
    "starpattern3(5) "
   ]
  },
  {
   "cell_type": "code",
   "execution_count": 1,
   "metadata": {},
   "outputs": [
    {
     "name": "stdout",
     "output_type": "stream",
     "text": [
      "{'s': 4, 'd': 2}\n",
      "{'s': 4, 'd': 2}\n"
     ]
    },
    {
     "data": {
      "text/plain": [
       "True"
      ]
     },
     "execution_count": 1,
     "metadata": {},
     "output_type": "execute_result"
    }
   ],
   "source": [
    "def anagram (string1, string2) :\n",
    "    if len(string1) != len(string2):\n",
    "        return False\n",
    "    \n",
    "    frequency_by_alphabet1 = {}\n",
    "    frequency_by_alphabet2 = {}\n",
    "    for alphabet in string1:\n",
    "        if alphabet in frequency_by_alphabet1:\n",
    "            frequency_by_alphabet1[alphabet] += 1\n",
    "        else:\n",
    "            frequency_by_alphabet1[alphabet] = 1\n",
    "    print(frequency_by_alphabet1)\n",
    "\n",
    "    for alphabet in string2:\n",
    "        if alphabet in frequency_by_alphabet2:\n",
    "            frequency_by_alphabet2[alphabet] += 1\n",
    "        else:\n",
    "            frequency_by_alphabet2[alphabet] = 1\n",
    "    print(frequency_by_alphabet2)\n",
    "    isAnagram = True\n",
    "    for alphabet in string1:\n",
    "        if frequency_by_alphabet1[alphabet] == frequency_by_alphabet2[alphabet]:\n",
    "            isAnagram = True\n",
    "        else:\n",
    "            isAnagram = False\n",
    "            break\n",
    "        \n",
    "    return isAnagram\n",
    "\n",
    "    \n",
    "\n",
    "\n",
    "\n",
    "anagram(\"sdsdss\", \"sdsdss\")\n",
    "\n"
   ]
  },
  {
   "cell_type": "code",
   "execution_count": 39,
   "metadata": {},
   "outputs": [
    {
     "name": "stdout",
     "output_type": "stream",
     "text": [
      "a4b2c1\n",
      "[['aba', 'baa', 'aba'], ['baab', 'bbaa'], ['abc', 'cab'], ['habx', 'xabh']]\n"
     ]
    }
   ],
   "source": [
    "def stringrep(word):\n",
    "\n",
    "    hashmap = {}\n",
    "    for alphabet in word:\n",
    "        if alphabet in hashmap:\n",
    "            hashmap[alphabet] += 1\n",
    "        else:\n",
    "            hashmap[alphabet] = 1\n",
    "        \n",
    "\n",
    "    keyarr = [i for i in hashmap.keys()] \n",
    "    keyarr.sort()\n",
    "    str_rep = \"\"\n",
    "    for key in keyarr:\n",
    "        str_rep += key + str(hashmap[key])\n",
    "    \n",
    "    return str_rep\n",
    "\n",
    "print(stringrep(\"abaabca\"))\n",
    "\n",
    "def groupanagram(arr):\n",
    "    finalhashmap={}\n",
    "    for element in arr:\n",
    "        strrep = stringrep(element)\n",
    "        if strrep in finalhashmap:\n",
    "            finalhashmap[strrep].append(element)\n",
    "        else:\n",
    "            finalhashmap[strrep] = [element]\n",
    "\n",
    "    return [i for i in finalhashmap.values()]\n",
    "\n",
    "print(groupanagram([\"aba\", \"baa\", \"baab\", \"bbaa\",\"abc\", \"cab\", \"habx\", \"xabh\", \"aba\"]))"
   ]
  },
  {
   "cell_type": "code",
   "execution_count": 18,
   "metadata": {},
   "outputs": [
    {
     "ename": "Exception",
     "evalue": "Enter valid string",
     "output_type": "error",
     "traceback": [
      "\u001b[1;31m---------------------------------------------------------------------------\u001b[0m",
      "\u001b[1;31mException\u001b[0m                                 Traceback (most recent call last)",
      "Cell \u001b[1;32mIn[18], line 34\u001b[0m\n\u001b[0;32m     29\u001b[0m         \u001b[38;5;28;01mreturn\u001b[39;00m \u001b[38;5;28;01mFalse\u001b[39;00m\n\u001b[0;32m     31\u001b[0m     \u001b[38;5;28;01mreturn\u001b[39;00m \u001b[38;5;28;01mTrue\u001b[39;00m\n\u001b[1;32m---> 34\u001b[0m \u001b[43mtimeconvertor\u001b[49m\u001b[43m(\u001b[49m\u001b[38;5;124;43m\"\u001b[39;49m\u001b[38;5;124;43m09:38:06 anm\u001b[39;49m\u001b[38;5;124;43m\"\u001b[39;49m\u001b[43m)\u001b[49m\n",
      "Cell \u001b[1;32mIn[18], line 10\u001b[0m, in \u001b[0;36mtimeconvertor\u001b[1;34m(timing)\u001b[0m\n\u001b[0;32m      7\u001b[0m timezone \u001b[38;5;241m=\u001b[39m timezone\u001b[38;5;241m.\u001b[39mupper()\n\u001b[0;32m      9\u001b[0m \u001b[38;5;28;01mif\u001b[39;00m \u001b[38;5;129;01mnot\u001b[39;00m validate(hrs, \u001b[38;5;28mmin\u001b[39m, sec, timezone):\n\u001b[1;32m---> 10\u001b[0m     \u001b[38;5;28;01mraise\u001b[39;00m \u001b[38;5;167;01mException\u001b[39;00m(\u001b[38;5;124m\"\u001b[39m\u001b[38;5;124mEnter valid string\u001b[39m\u001b[38;5;124m\"\u001b[39m)\n\u001b[0;32m     12\u001b[0m \u001b[38;5;28;01mif\u001b[39;00m timezone \u001b[38;5;241m==\u001b[39m \u001b[38;5;124m\"\u001b[39m\u001b[38;5;124mAM\u001b[39m\u001b[38;5;124m\"\u001b[39m \u001b[38;5;129;01mand\u001b[39;00m hrs \u001b[38;5;241m==\u001b[39m \u001b[38;5;241m12\u001b[39m:\n\u001b[0;32m     13\u001b[0m     hrs \u001b[38;5;241m=\u001b[39m hrs\u001b[38;5;241m-\u001b[39m\u001b[38;5;241m12\u001b[39m\n",
      "\u001b[1;31mException\u001b[0m: Enter valid string"
     ]
    }
   ],
   "source": [
    "def timeconvertor(timing):\n",
    "    hrs, min, secs = timing.split(\":\")\n",
    "    sec, timezone = secs.split(\" \")\n",
    "    hrs = int(hrs)\n",
    "    min = int(min)\n",
    "    sec = int(sec)\n",
    "    timezone = timezone.upper()\n",
    "    \n",
    "    if not validate(hrs, min, sec, timezone):\n",
    "        raise Exception(\"Enter valid string\")\n",
    "\n",
    "    if timezone == \"AM\" and hrs == 12:\n",
    "        hrs = hrs-12\n",
    "    elif timezone == \"PM\" and hrs == 12:\n",
    "        hrs = hrs\n",
    "    elif timezone == \"PM\":\n",
    "        hrs = hrs + 12\n",
    "    print (f\"{hrs:02d}:{min:02d}:{sec:02d}\")\n",
    "\n",
    "\n",
    "def validate(hr, min, sec, timezone):\n",
    "    if hr > 12 or hr < 1:\n",
    "        return False\n",
    "    elif min > 59 or min < 0:\n",
    "        return False\n",
    "    elif sec > 59 or min < 0:\n",
    "        return False\n",
    "    elif timezone not in [\"AM\", \"PM\"]:\n",
    "        return False\n",
    "    \n",
    "    return True\n",
    "\n",
    "    \n",
    "timeconvertor(\"09:38:06 anm\")"
   ]
  },
  {
   "cell_type": "code",
   "execution_count": null,
   "metadata": {},
   "outputs": [
    {
     "name": "stdout",
     "output_type": "stream",
     "text": [
      "12:08:06\n"
     ]
    }
   ],
   "source": [
    "def timeconvertor(timing):\n",
    "    hrs, min, secs = timing.split(\":\")\n",
    "    sec, timezone =secs.split(\" \")\n",
    "    hrs = int(hrs)\n",
    "    min = int(min)\n",
    "    sec = int(sec)\n",
    "    timezone = timezone.upper()\n",
    "    if hrs>12 or hrs<1 or min>60 or min<0 or sec>60 or sec<0 :\n",
    "        return False     \n",
    "    elif timezone == \"AM\" and hrs == 12:\n",
    "        hrs = hrs-12\n",
    "    elif timezone == \"PM\" and hrs == 12:\n",
    "        hrs = hrs\n",
    "    elif timezone == \"PM\":\n",
    "        hrs = hrs + 12\n",
    "    print (f\"{hrs:02d}:{min:02d}:{sec:02d}\")\n",
    "timeconvertor(\"12:8:06 pM\")"
   ]
  },
  {
   "cell_type": "code",
   "execution_count": 24,
   "metadata": {},
   "outputs": [
    {
     "data": {
      "text/plain": [
       "[6, 4]"
      ]
     },
     "execution_count": 24,
     "metadata": {},
     "output_type": "execute_result"
    }
   ],
   "source": [
    "\"\"\"\n",
    "Given an integer array. write a method or function that returns sum of all the even no. and odd no.s\n",
    "\n",
    "\n",
    "\"\"\"\n",
    "def arrsum(arr):\n",
    "    evendigit=0\n",
    "    odddigit=0\n",
    "    for digit in arr:\n",
    "        if digit % 2 == 0:\n",
    "            evendigit= evendigit+digit\n",
    "        else:\n",
    "            odddigit= odddigit + digit\n",
    "    return [evendigit, odddigit]\n",
    "arrsum([1,2,3,4])   "
   ]
  },
  {
   "cell_type": "code",
   "execution_count": 31,
   "metadata": {},
   "outputs": [
    {
     "data": {
      "text/plain": [
       "[1, 2, 3, 6, 4]"
      ]
     },
     "execution_count": 31,
     "metadata": {},
     "output_type": "execute_result"
    }
   ],
   "source": [
    "\"\"\"\n",
    "given two arrays return intersection of both arrays\n",
    "\"\"\"\n",
    "def arrayintersection(arr1,arr2):\n",
    "    commonarr=[]\n",
    "    commonset=set(arr2)\n",
    "    for el1 in arr1:\n",
    "        if el1 in commonset:\n",
    "            commonarr.append(el1)\n",
    "    return commonarr\n",
    "\n",
    "arrayintersection([1,2,3,6,7,4],[1,4,2,5,3,6] )"
   ]
  },
  {
   "cell_type": "code",
   "execution_count": null,
   "metadata": {},
   "outputs": [
    {
     "name": "stdout",
     "output_type": "stream",
     "text": [
      "we have number = 1\n",
      "we have number = 2\n",
      "we have number = 3\n",
      "we have number = 4\n",
      "we have number = 5\n",
      "we have number = 6\n",
      "we have number = 7\n",
      "we have number = 8\n",
      "we have number = 9\n"
     ]
    }
   ],
   "source": [
    " \n",
    "def arraymissing(arr):\n",
    "    set1 = set(arr)\n",
    "    min, max = maxandmin(arr)\n",
    "    for i in range(min, max+1):\n",
    "        if i in set1:\n",
    "            print(f\"we have number = {i}\")\n",
    "        else:\n",
    "            print(f\"found missing number = {i}\")\n",
    "\n",
    "\n",
    "def maxandmin(arr):\n",
    "    min = float(\"inf\")\n",
    "    max = float(\"-inf\")\n",
    "    for e in arr:\n",
    "        if min > e:\n",
    "            min = e\n",
    "        if max < e:\n",
    "            max = e\n",
    "    return min, max\n",
    "\n",
    "\n",
    "nums=[9,8,7,6,5,4,3,2,1]\n",
    "arraymissing(nums)"
   ]
  },
  {
   "cell_type": "code",
   "execution_count": null,
   "metadata": {},
   "outputs": [
    {
     "data": {
      "text/plain": [
       "'value1'"
      ]
     },
     "execution_count": 1,
     "metadata": {},
     "output_type": "execute_result"
    }
   ],
   "source": [
    "nums=[\"res\",\"ert\",\"ytr\"]\n",
    "nums[2]\n",
    "\n",
    "nums.append(\"ert\")\n",
    "nums.insert(0, \"two\")\n",
    "r = nums.pop()\n",
    "\n",
    "set2=set()\n",
    "set1=set(nums)\n",
    "set1.add(\"23\")\n",
    "\"res\" in set1\n",
    "\n",
    "hmap={}\n",
    "hmap={\"key1\":\"value1\"}\n",
    "\"key1\" in hmap\n",
    "hmap.get(\"key1\")"
   ]
  },
  {
   "cell_type": "code",
   "execution_count": 4,
   "metadata": {},
   "outputs": [
    {
     "name": "stdout",
     "output_type": "stream",
     "text": [
      "['welcome', 'to', 'coding', 'ninjas']\n",
      "welcome to coding ninjas\n",
      " ninjas coding to welcome\n"
     ]
    }
   ],
   "source": [
    "def stringspilt(str1):\n",
    "    arr=[]\n",
    "    arr= str1.split(\" \")\n",
    "    print (arr)\n",
    "    print(\" \".join(arr))\n",
    "    str2 = \"\"\n",
    "    for i in range(len(arr)-1 , -1, -1):\n",
    "        str2 = str2 + \" \" +arr[i]\n",
    "    print (str2)\n",
    "\n",
    "str1=\"welcome to coding ninjas\"\n",
    "stringspilt(str1)"
   ]
  },
  {
   "cell_type": "code",
   "execution_count": 40,
   "metadata": {},
   "outputs": [
    {
     "name": "stdout",
     "output_type": "stream",
     "text": [
      "11000\n"
     ]
    }
   ],
   "source": [
    "def converttobin(int1):\n",
    "    ans = \"\"\n",
    "    while int1 >= 1:\n",
    "        int2= int1 % 2\n",
    "        ans += str(int2)\n",
    "        int1 //= 2\n",
    "\n",
    "    return ans[::-1]\n",
    "\n",
    "\n",
    "count=24\n",
    "print(converttobin(count))"
   ]
  },
  {
   "cell_type": "code",
   "execution_count": 79,
   "metadata": {},
   "outputs": [
    {
     "name": "stdout",
     "output_type": "stream",
     "text": [
      "24\n",
      "24\n"
     ]
    }
   ],
   "source": [
    "def converttodec(str1):\n",
    "    res = 0\n",
    "    for i, ch in enumerate(str1[::-1]):\n",
    "        if ch==\"1\":\n",
    "            res +=(2**i)\n",
    "    return res\n",
    "\n",
    "def convert_to_dec(str1):\n",
    "    res = 0\n",
    "    lth = len(str1)\n",
    "    for i in range(0, lth):\n",
    "        if str1[abs(lth - 1 - i)] == \"1\":\n",
    "            res+=2**i\n",
    "    \n",
    "    return res\n",
    "# try to use map,reduce, accumlate for this problem\n",
    "\n",
    "str1=\"11000\"\n",
    "print(converttodec(str1))\n",
    "print(convert_to_dec(str1))"
   ]
  },
  {
   "cell_type": "code",
   "execution_count": 13,
   "metadata": {},
   "outputs": [
    {
     "name": "stdout",
     "output_type": "stream",
     "text": [
      "1\n",
      "1\n",
      "2\n"
     ]
    }
   ],
   "source": [
    "class stack:\n",
    "    def __init__(self):\n",
    "        self.store=[]\n",
    "        self.length=0\n",
    "\n",
    "    def push(self, element):\n",
    "        self.store.append(element)\n",
    "        self.length +=1\n",
    "\n",
    "    def pop(self):\n",
    "        if self.length == 0:\n",
    "            raise BaseException(\"error stack is emplty\")\n",
    "        self.length -=1\n",
    "        return self.store.pop()\n",
    "        \n",
    "    def peek(self):\n",
    "        if self.length == 0:\n",
    "            raise BaseException(\"error stack is emplty\")\n",
    "        return self.store[self.length-1]\n",
    "    \n",
    "stack1 = stack()\n",
    "\n",
    "stack1.push(4)\n",
    "stack1.push(3)\n",
    "stack1.push(2)\n",
    "stack1.push(1)\n",
    "print(stack1.peek())\n",
    "print(stack1.pop())\n",
    "print(stack1.peek())"
   ]
  },
  {
   "cell_type": "code",
   "execution_count": 12,
   "metadata": {},
   "outputs": [
    {
     "name": "stdout",
     "output_type": "stream",
     "text": [
      "6\n"
     ]
    }
   ],
   "source": [
    "class queue:\n",
    "    def __init__(self, arr=[]):\n",
    "        self.store=arr\n",
    "        self.length=0\n",
    "    \n",
    "    def enqueque(self, element):\n",
    "        self.store.insert(0,element)\n",
    "        self.length +=1\n",
    "\n",
    "    def dequeque(self):\n",
    "        if self.length == 0:\n",
    "            raise BaseException(\"error queque is empty\")\n",
    "        self.length -=1\n",
    "        return self.store.pop()\n",
    "    \n",
    "queue1 = queue()\n",
    "queue1.enqueque(6)\n",
    "queue1.enqueque(7)\n",
    "queue1.enqueque(8)\n",
    "print(queue1.dequeque())       \n",
    "    "
   ]
  },
  {
   "cell_type": "code",
   "execution_count": 20,
   "metadata": {},
   "outputs": [
    {
     "data": {
      "text/plain": [
       "True"
      ]
     },
     "execution_count": 20,
     "metadata": {},
     "output_type": "execute_result"
    }
   ],
   "source": [
    "def isbraketbalance(string):\n",
    "    s = stack()\n",
    "    for char in string:\n",
    "        if char == \"(\" :\n",
    "            s.push(char)\n",
    "        elif s.length>0: \n",
    "            s.pop()\n",
    "        else:\n",
    "            return False\n",
    "    if s.length == 0:\n",
    "        return True\n",
    "    return False\n",
    "string = \"(((((((((())))))))))\"\n",
    "isbraketbalance(string)"
   ]
  },
  {
   "cell_type": "code",
   "execution_count": null,
   "metadata": {},
   "outputs": [
    {
     "name": "stdout",
     "output_type": "stream",
     "text": [
      "7\n"
     ]
    }
   ],
   "source": [
    "def bracketbetweencount(string1):\n",
    "    closebrakets = string1.count(\")\")\n",
    "    rightside = 0\n",
    "    leftside = 0\n",
    "    if leftside == closebrakets - rightside:\n",
    "            return 0\n",
    "    for i in range(len(string1)):\n",
    "        if string1[i] == \"(\":\n",
    "            leftside +=1\n",
    "        elif string1[i] == \")\":\n",
    "            rightside +=1\n",
    "        if leftside == closebrakets - rightside:\n",
    "            return i+1\n",
    "         \n",
    "strin = \"((()()())(()))\"\n",
    "print(bracketbetweencount(strin))\n"
   ]
  },
  {
   "cell_type": "code",
   "execution_count": 8,
   "metadata": {},
   "outputs": [],
   "source": [
    "def findEquilibriumIndex(arr):\n",
    "    n = len(arr)\n",
    "    rightsidesum = 0\n",
    "    leftsidesum = 0\n",
    "    for i in range (n-1):\n",
    "        rightsidesum = sum(arr) + leftsidesum\n",
    "        leftsidesum = arr[i] + leftsidesum\n",
    "\n",
    "        if leftsidesum == rightsidesum:\n",
    "            return arr[i]\n",
    "    return -1\n",
    "        \n",
    "\n",
    "\n",
    "\n",
    "\n",
    "\n",
    "\n",
    "\n",
    "\n",
    "\n",
    "\n"
   ]
  },
  {
   "cell_type": "code",
   "execution_count": null,
   "metadata": {},
   "outputs": [],
   "source": [
    "def firstMissing(arr, n):\n",
    "    minno=min(arr)\n",
    "    maxno=max(arr)\n",
    "    if min>1:\n",
    "        return 1\n",
    "    for i in range(0,maxno):\n",
    "        if i in arr:\n",
    "            continue\n",
    "        else:\n",
    "            return i\n",
    "\n",
    "    pass\n",
    "\n",
    "t=int(input())\n",
    "\n",
    "for j in range(t):\n",
    "    target=int(input())\n",
    "    nums=[int(i) for i in input().split()]\n",
    "    ans = firstMissing(nums,target)\n",
    "\n",
    "    print(ans)"
   ]
  },
  {
   "cell_type": "code",
   "execution_count": null,
   "metadata": {},
   "outputs": [
    {
     "name": "stdout",
     "output_type": "stream",
     "text": [
      "3\n"
     ]
    }
   ],
   "source": [
    "def firstMissing(arr, n):\n",
    "    for i in range(n):\n",
    "        if arr[i] < 0 or arr[i]> n :\n",
    "            arr[i]=0\n",
    "    for i in range (n):\n",
    "        elem = abs(arr[i])\n",
    "        if elem==0 or elem > n:\n",
    "            continue\n",
    "        else:\n",
    "            val = arr[elem-1]\n",
    "            if val ==0:\n",
    "                arr[elem-1]=-1*(n+1)\n",
    "            else:\n",
    "                arr[elem-1]*=-1\n",
    "    \n",
    "    for i in range(1,n+1):\n",
    "        if arr[i-1]>=0:\n",
    "            return i\n",
    "    return n+1\n",
    "nums=[1,2,0]\n",
    "print(firstMissing(nums,len(nums)))"
   ]
  },
  {
   "cell_type": "code",
   "execution_count": null,
   "metadata": {},
   "outputs": [],
   "source": []
  },
  {
   "cell_type": "code",
   "execution_count": 11,
   "metadata": {},
   "outputs": [
    {
     "name": "stdout",
     "output_type": "stream",
     "text": [
      "(1, 6)\n"
     ]
    }
   ],
   "source": [
    "def twosum(arr1,sum):\n",
    "    arr1.sort()\n",
    "    left = 0\n",
    "    right = len(arr1) -1 \n",
    "    while right > left:\n",
    "        if arr1[left] + arr1[right] > sum:\n",
    "            right -=1\n",
    "        elif arr1[left] + arr1[right] < sum:\n",
    "            left -=1\n",
    "        elif arr1[left] + arr1[right] == sum:\n",
    "            return (arr1[left], arr1[right])\n",
    "\n",
    "\n",
    "arr1 =[1,4,2,5,7,3,9,6]\n",
    "sum= 7\n",
    "print(twosum(arr1,sum))"
   ]
  },
  {
   "cell_type": "code",
   "execution_count": 8,
   "metadata": {},
   "outputs": [
    {
     "name": "stdout",
     "output_type": "stream",
     "text": [
      "3\n"
     ]
    }
   ],
   "source": [
    "def findSecondLargest(sequenceOfNumbers):\n",
    "    int1 = float('-inf')\n",
    "    int2 = float('-inf')\n",
    "    for i in sequenceOfNumbers:\n",
    "        if i>int1 and i>int2:\n",
    "            int2=int1\n",
    "            int1=i\n",
    "        elif i<int1 and i>int2:\n",
    "            int2=i\n",
    "    if int1==int2:\n",
    "        int2=-1\n",
    "    elif int2 ==float('-inf'):\n",
    "        int2=-1\n",
    "    return int2 \n",
    "sequenceOfNumbers = [2,3,2,2,3,5]\n",
    "print(findSecondLargest(sequenceOfNumbers))"
   ]
  },
  {
   "cell_type": "code",
   "execution_count": null,
   "metadata": {},
   "outputs": [],
   "source": [
    "def rotateArray(arr: list, k: int) -> list:\n",
    "    arraypart1=arr[0: k]\n",
    "    arraypart2=arr[k: len(arr)]\n",
    "    return arraypart1 +arraypart2"
   ]
  },
  {
   "cell_type": "code",
   "execution_count": null,
   "metadata": {},
   "outputs": [
    {
     "name": "stdout",
     "output_type": "stream",
     "text": [
      "True\n"
     ]
    }
   ],
   "source": [
    "def isPossible(arr,n):\n",
    "    count = 0\n",
    "    if n==1 or n==2:\n",
    "        return True   \n",
    "    elif n==3:\n",
    "        if arr[0]>arr[1] and arr[1]>arr[2]:\n",
    "            return False\n",
    "        else:\n",
    "            return True\n",
    "    for i in range(n-1):\n",
    "        if arr[i]>arr[i+1]:\n",
    "            if arr[i] > arr[i+2]:\n",
    "                return False\n",
    "            count +=1\n",
    "    if count<=1:\n",
    "        return True\n",
    "    else:\n",
    "        return False\n",
    "    \n",
    "nums=[8,4,6]\n",
    "print(isPossible(nums, len(nums)))"
   ]
  },
  {
   "cell_type": "code",
   "execution_count": null,
   "metadata": {},
   "outputs": [
    {
     "name": "stdout",
     "output_type": "stream",
     "text": [
      "False\n"
     ]
    }
   ],
   "source": [
    "def isPossible(arr,n):\n",
    "    count = 0\n",
    "    if n==1 or n==2:\n",
    "        return True\n",
    "    for i in range(n-1):\n",
    "        if arr[i]<arr[i+1] and arr[i]>arr[i-1]:\n",
    "            arr[i]=arr[i+1]\n",
    "        elif arr[i]>arr[i+1]:\n",
    "            count +=1\n",
    "            arr[i+1]=arr[i]\n",
    "    if count<=1:\n",
    "        return True\n",
    "    else:\n",
    "        return False\n",
    "nums=[-10,10,0,10,3]\n",
    "print(isPossible(nums, len(nums)))\n"
   ]
  },
  {
   "cell_type": "code",
   "execution_count": null,
   "metadata": {},
   "outputs": [
    {
     "name": "stdout",
     "output_type": "stream",
     "text": [
      "True\n"
     ]
    }
   ],
   "source": [
    "def isPossible(arr,n):\n",
    "    count = 0\n",
    "    if n==1 or n==2:\n",
    "        return True\n",
    "    for i in range(n-1):\n",
    "        if  arr[i] <= arr[i + 1]:\n",
    "            return True\n",
    "        elif arr[i] > arr[i+1]:\n",
    "            count +=1\n",
    "    if count<=1:\n",
    "        return True\n",
    "    else:\n",
    "        return False\n",
    "nums=[-10,10,0,10,3]\n",
    "print(isPossible(nums, len(nums)))"
   ]
  },
  {
   "cell_type": "code",
   "execution_count": null,
   "metadata": {},
   "outputs": [],
   "source": [
    "'''  \n",
    "    Time Complexity : O(N)\n",
    "    Space Complexity : O(1)\n",
    "\n",
    "    Where 'N' is the size of Array.\n",
    "'''\n",
    "\n",
    "def isPossible(arr, n):\n",
    "    \n",
    "    notInOrderIndex = -1\n",
    "    \n",
    "    for i in range(n-1):\n",
    "        \n",
    "        if(arr[i] > arr[i+1]):\n",
    "            \n",
    "            '''\n",
    "                If more than 1 Index is not in non-decreasing\n",
    "                order then we can return false.\n",
    "            '''\n",
    "            if (notInOrderIndex != -1):\n",
    "                \n",
    "                return False\n",
    "            \n",
    "            notInOrderIndex = i\n",
    "    \n",
    "    '''\n",
    "        If Everyone is in Order OR Only \n",
    "        First Number is not in Order OR Only Last\n",
    "        number is not in Order.\n",
    "    '''\n",
    "    if (notInOrderIndex == -1 or notInOrderIndex == 0 or notInOrderIndex == n - 2):\n",
    "        return True\n",
    "      \n",
    "    '''\n",
    "        If we can change arr[notInOrderIndex]\n",
    "        to be between arr[notInOrderIndex - 1]\n",
    "        and arr[notInOrderIndex + 1].   \n",
    "    '''\n",
    "    if (arr[notInOrderIndex - 1] <= arr[notInOrderIndex + 1]):\n",
    "        return True\n",
    "    \n",
    "    '''\n",
    "        If we can change arr[notInOrderIndex + 1]\n",
    "        to be between arr[notInOrderIndex]\n",
    "        and arr[notInOrderIndex + 2].  \n",
    "    '''\n",
    "    if (arr[notInOrderIndex] <= arr[notInOrderIndex + 2]):\n",
    "        return True\n",
    "        \n",
    "    '''\n",
    "        If there is no way to make the array non-decreasing\n",
    "        by modifying at most 1 element.\n",
    "    '''\n",
    "    return False\n"
   ]
  },
  {
   "cell_type": "code",
   "execution_count": null,
   "metadata": {},
   "outputs": [],
   "source": [
    "def isPossible(arr,n):\n",
    "    changed=False\n",
    "    "
   ]
  },
  {
   "cell_type": "code",
   "execution_count": null,
   "metadata": {},
   "outputs": [
    {
     "name": "stdout",
     "output_type": "stream",
     "text": [
      " \n"
     ]
    }
   ],
   "source": [
    "def reverseStringWordWise(string1):\n",
    "    arr=string1.split(\" \")\n",
    "    resultstring=\"\"\n",
    "    lengthofarr=len(arr)\n",
    "\n",
    "    \n",
    "    for i in range(lengthofarr-1, 0 ,-1):\n",
    "        resultstring += arr[i]+ \" \" \n",
    "\n",
    "    return resultstring + arr[0]\n",
    "\n",
    "strin=\" \"\n",
    "print(reverseStringWordWise(strin))"
   ]
  },
  {
   "cell_type": "code",
   "execution_count": 36,
   "metadata": {},
   "outputs": [
    {
     "data": {
      "text/plain": [
       "'a5b4c1d1e1f4a4'"
      ]
     },
     "execution_count": 36,
     "metadata": {},
     "output_type": "execute_result"
    }
   ],
   "source": [
    "def encode(message):\n",
    "    resultsring=\"\"\n",
    "    tempcount=0\n",
    "    tempchar=\"\"\n",
    "    tempstring=\"\"\n",
    "    for char in message:\n",
    "        if char == tempchar:\n",
    "            tempcount +=1\n",
    "        else:\n",
    "            if tempcount != 0:\n",
    "                resultsring += tempchar + str(tempcount)\n",
    "                tempcount = 1\n",
    "                tempchar = char\n",
    "            else:\n",
    "                tempchar=char\n",
    "                tempcount += 1\n",
    "    if tempchar != \"\" and tempcount > 0:\n",
    "        resultsring += tempchar + str(tempcount)\n",
    "\n",
    "    return resultsring\n",
    "\n",
    "message=\"aaaaabbbbcdeffffaaaa\"\n",
    "encode(message)"
   ]
  },
  {
   "cell_type": "code",
   "execution_count": null,
   "metadata": {},
   "outputs": [],
   "source": [
    "def encode(message):\n",
    "  res = \"\"\n",
    "  i = 0\n",
    "  while i < len(message):\n",
    "    count = 1\n",
    "    while i + 1 < len(message) and message[i] == message[i + 1]:\n",
    "      count += 1\n",
    "      i += 1\n",
    "    res += message[i] + str(count)\n",
    "    i += 1\n",
    "  return res"
   ]
  },
  {
   "cell_type": "code",
   "execution_count": null,
   "metadata": {},
   "outputs": [],
   "source": [
    "def minimumParentheses(pattern):\n",
    "    openbracket=0\n",
    "    closebracket=0\n",
    "    result = 0\n",
    "    for char in pattern:\n",
    "        if char == \"(\":\n",
    "            openbracket += 1\n",
    "             \n",
    "        elif char == \")\":\n",
    "            closebracket +=1\n",
    "    if openbracket ==closebracket:\n",
    "        return result\n",
    "    else:\n",
    "        result= abs(openbracket-closebracket) \n",
    "        "
   ]
  },
  {
   "cell_type": "code",
   "execution_count": null,
   "metadata": {},
   "outputs": [],
   "source": [
    "def minimumParentheses(pattern):\n",
    "    openbracket=0\n",
    "    result = 0\n",
    "    balance=0 \n",
    "    for char in pattern:\n",
    "        if char == \"(\":\n",
    "            openbracket +=1\n",
    "        elif char == \")\" and openbracket > 0:\n",
    "            openbracket -=1 \n",
    "        elif char == \")\":\n",
    "            balance +=1\n",
    "    result = openbracket + balance\n",
    "    return result\n",
    "pattern=\"))(\"\n",
    "print(minimumParentheses(pattern))\n"
   ]
  },
  {
   "cell_type": "code",
   "execution_count": null,
   "metadata": {},
   "outputs": [
    {
     "name": "stdout",
     "output_type": "stream",
     "text": [
      "0\n"
     ]
    }
   ],
   "source": [
    "def makeBeautiful(str):\n",
    "    change0=0\n",
    "    change1=1\n",
    "    start0=\"0\"\n",
    "    start1=\"1\"\n",
    "    for char in str:\n",
    "        if char[i] != start0:\n",
    "            change0 +=1\n",
    "        if char[i] != start1:\n",
    "            change1 +=1\n",
    "        start0, start1 = start1, start0\n",
    "    return min(change0,change1)\n",
    "\n",
    "    "
   ]
  },
  {
   "cell_type": "code",
   "execution_count": null,
   "metadata": {},
   "outputs": [
    {
     "name": "stdout",
     "output_type": "stream",
     "text": [
      "123452452233230000\n"
     ]
    }
   ],
   "source": [
    "def stringaddition(s):\n",
    "    s= s[::-1]\n",
    "    sarr=[char for char in s]\n",
    "    for i,char in enumerate(sarr):\n",
    "        if int(char) == 9:\n",
    "            sarr[i] = \"0\"\n",
    "            continue\n",
    "        elif int(char) < 9:\n",
    "            x = int(char) + 1\n",
    "            sarr[i] = str(x)\n",
    "            break\n",
    "    s= \"\".join(sarr)\n",
    "    s = s[::-1]\n",
    "    return s\n",
    "s=\"123452452233229999\"\n",
    "print(stringaddition(s))"
   ]
  },
  {
   "cell_type": "code",
   "execution_count": null,
   "metadata": {},
   "outputs": [],
   "source": [
    "def stringcompare(s,s1):\n",
    "    s=s[::-1]\n",
    "    sarr=[int(char) for char in s]\n",
    "    sarr1=[int(char) for char in s1]\n",
    "    for i in range(len(sarr)):\n",
    "        if sarr[i]==sarr1[i]:\n",
    "            continue\n",
    "        elif sarr[i]>sarr1[i]:\n",
    "            return -1\n",
    "        elif sarr[i]<sarr1[i]:   \n",
    "            return 1\n",
    "    return 0"
   ]
  },
  {
   "cell_type": "code",
   "execution_count": null,
   "metadata": {},
   "outputs": [
    {
     "name": "stdout",
     "output_type": "stream",
     "text": [
      "1486435346841\n"
     ]
    }
   ],
   "source": [
    "def nextLargestPalindrome(s, length):\n",
    "    all9s= all(i==\"9\" for i in s)\n",
    "    mid=length//2\n",
    "    if all9s:\n",
    "        return \"1\" + ((length-1)*\"0\") + \"1\"\n",
    "    if not ispalindrome(s):\n",
    "        if length%2 == 0:\n",
    "            left= s[:mid]\n",
    "            right= s[mid:]\n",
    "            if stringcompare(left,right) == -1:\n",
    "                right= left[::-1]\n",
    "                return left + right\n",
    "            elif stringcompare(left,right) == 1:\n",
    "                left = stringaddition(left)\n",
    "                right = left[::-1]\n",
    "                return left + right\n",
    "        elif length%2 !=0:\n",
    "            left= s[:mid]\n",
    "            right= s[mid:]\n",
    "            if oddstringcompare(left,right) == -1:\n",
    "                right = left[::-1]\n",
    "                left= s[:mid+1]\n",
    "                return left + right\n",
    "            elif oddstringcompare(left,right) == 1:\n",
    "                left = s[:mid + 1]\n",
    "                left = stringaddition(left)\n",
    "                right = left[:-1]\n",
    "                right = right[::-1]\n",
    "                return left + right\n",
    "    else:\n",
    "        if length%2 == 0:\n",
    "            left= s[:mid]\n",
    "            left = stringaddition(left)\n",
    "            right = left[::-1]\n",
    "            return left + right\n",
    "        else:\n",
    "            left= s[:mid+1]\n",
    "            left = stringaddition(left)\n",
    "            right = left[:-1]\n",
    "            right = right[::-1]\n",
    "            return left + right\n",
    "        \n",
    "def ispalindrome(s):\n",
    "    return s == s[::-1]\n",
    "\n",
    "def stringaddition(s):\n",
    "    s= s[::-1]\n",
    "    sarr=[char for char in s]\n",
    "    for i,char in enumerate(sarr):\n",
    "        if int(char) == 9:\n",
    "            sarr[i] = \"0\"\n",
    "            continue\n",
    "        elif int(char) < 9:\n",
    "            x = int(char) + 1\n",
    "            sarr[i] = str(x)\n",
    "            break\n",
    "    s= \"\".join(sarr)\n",
    "    s = s[::-1]\n",
    "    return s\n",
    "\n",
    "def stringcompare(s,s1):\n",
    "    s=s[::-1]\n",
    "    sarr=[int(char) for char in s]\n",
    "    sarr1=[int(char) for char in s1]\n",
    "    for i in range(len(sarr)):\n",
    "        if sarr[i]==sarr1[i]:\n",
    "            continue\n",
    "        elif sarr[i]>sarr1[i]:\n",
    "            return -1\n",
    "        elif sarr[i]<sarr1[i]:   \n",
    "            return 1\n",
    "    return 0\n",
    "\n",
    "def oddstringcompare(s,s1):\n",
    "    s=s[::-1]\n",
    "    s1=s1[::-1]\n",
    "    s1=s1[:-1]\n",
    "    s1=s1[::-1]\n",
    "    sarr=[int(char) for char in s]\n",
    "    sarr1=[int(char) for char in s1]\n",
    "    for i in range(len(sarr)):\n",
    "        if sarr[i]==sarr1[i]:\n",
    "            continue\n",
    "        elif sarr[i]>sarr1[i]:\n",
    "            return -1\n",
    "        elif sarr[i]<sarr1[i]:   \n",
    "            return 1\n",
    "    return 0\n",
    "s=\"333999465\"\n",
    "length=len(s)\n",
    "print(nextLargestPalindrome(s, length))\n"
   ]
  },
  {
   "cell_type": "code",
   "execution_count": 30,
   "metadata": {},
   "outputs": [
    {
     "name": "stdout",
     "output_type": "stream",
     "text": [
      "-1\n"
     ]
    }
   ],
   "source": [
    "def oddstringcompare(s,s1):\n",
    "    s=s[::-1]\n",
    "    s1=s1[::-1]\n",
    "    s1=s1[:-1]\n",
    "    s1=s1[::-1]\n",
    "    sarr=[int(char) for char in s]\n",
    "    sarr1=[int(char) for char in s1]\n",
    "\n",
    "    for i in range(len(sarr)+1):\n",
    "        if sarr[i]==sarr1[i+1]:\n",
    "            continue\n",
    "        elif sarr[i]>sarr1[i+1]:\n",
    "            return -1\n",
    "        elif sarr[i]<sarr1[i+1]:   \n",
    "            return 1\n",
    "    return 0\n",
    "\n",
    "s=\"132345\"\n",
    "s1=\"8826781\"\n",
    "print(oddstringcompare(s,s1))    "
   ]
  },
  {
   "cell_type": "code",
   "execution_count": 46,
   "metadata": {},
   "outputs": [
    {
     "name": "stdout",
     "output_type": "stream",
     "text": [
      "('456', '234', '23')\n"
     ]
    }
   ],
   "source": [
    "def splitstring(s, length):\n",
    "    mid = length //2\n",
    "    left= s[:mid+1]\n",
    "    right= s[mid:]\n",
    "    middle = s[:mid:]\n",
    "    return right, left, middle\n",
    "s=\"23456\"\n",
    "length = len(s)\n",
    "print(splitstring(s, length))"
   ]
  },
  {
   "cell_type": "code",
   "execution_count": null,
   "metadata": {},
   "outputs": [
    {
     "name": "stdout",
     "output_type": "stream",
     "text": [
      "i= 0 j = 0 element = 1\n",
      "i= 0 j = 1 element = 0\n",
      "i= 0 j = 2 element = 0\n",
      "i= 1 j = 0 element = 0\n",
      "i= 1 j = 1 element = 1\n",
      "i= 1 j = 2 element = 0\n",
      "i= 2 j = 0 element = 0\n",
      "i= 2 j = 1 element = 0\n",
      "i= 2 j = 2 element = 1\n",
      "[[0, 0], [0, 0], [0, 0]]\n"
     ]
    }
   ],
   "source": [
    "mat = [[1,0,0],[0,1,0],[0,0,1]]\n",
    "\n",
    "for num in range(len(mat)):\n",
    "    for j in range(len(mat[num])):\n",
    "        print(f\"i= {num} j = {j} element = {mat[num][j]}\")\n",
    "\n",
    "\n",
    "#empty matrix of 3 X 3 all zeroes\n",
    "\n",
    "mat = [[0] * 2 for i in range(3)]\n",
    "\n",
    "print(mat)\n"
   ]
  },
  {
   "cell_type": "code",
   "execution_count": 60,
   "metadata": {},
   "outputs": [
    {
     "data": {
      "text/plain": [
       "8"
      ]
     },
     "execution_count": 60,
     "metadata": {},
     "output_type": "execute_result"
    }
   ],
   "source": [
    "def coverageOfMatrix(mat):\n",
    "    result=0\n",
    "    for i in range(len(mat)):\n",
    "        for j in range(len(mat[i])):\n",
    "            if mat[i][j] == 0:\n",
    "                if j!=0 and mat[i][j-1]==1:\n",
    "                    result+=1\n",
    "                if j!=len(mat[i])-1 and mat[i][j+1]==1:\n",
    "                    result+=1\n",
    "                if i!=0 and mat[i-1][j]==1:\n",
    "                    result+=1\n",
    "                if i!=len(mat)-1 and mat[i+1][j]==1:\n",
    "                    result+=1\n",
    "    return result                \n",
    "mat = [[1,0,0],[0,1,0],[0,0,1]] \n",
    "coverageOfMatrix(mat)"
   ]
  },
  {
   "cell_type": "code",
   "execution_count": 61,
   "metadata": {},
   "outputs": [
    {
     "data": {
      "text/plain": [
       "True"
      ]
     },
     "execution_count": 61,
     "metadata": {},
     "output_type": "execute_result"
    }
   ],
   "source": [
    "def isMatrixSymmetric(matrix):\n",
    "    for i in range(len(mat)):\n",
    "        for j in range(len(mat[i])):\n",
    "            if i!=j and mat[i][j]!=mat[j][i]:\n",
    "                return False\n",
    "    return True\n",
    "            \n",
    "matrix = [[1,0,0],[0,1,0],[0,0,1]] \n",
    "isMatrixSymmetric(matrix)"
   ]
  },
  {
   "cell_type": "code",
   "execution_count": null,
   "metadata": {},
   "outputs": [
    {
     "data": {
      "text/plain": [
       "[[3, 6, 9], [2, 5, 8], [1, 4, 7]]"
      ]
     },
     "execution_count": 78,
     "metadata": {},
     "output_type": "execute_result"
    }
   ],
   "source": [
    "def inplaceRotate(inputArray, n):\n",
    "    for i in range(n):\n",
    "        for j in range(0,i):\n",
    "            if i != j:\n",
    "                inputArray[i][j],inputArray[j][i] = inputArray[j][i], inputArray[i][j]\n",
    "    inputArray.reverse()\n",
    "    return inputArray\n",
    "\n",
    "mat=[[1,2,3],[4,5,6],[7,8,9]] \n",
    "target=len(mat)\n",
    "inplaceRotate(mat, target)\n"
   ]
  },
  {
   "cell_type": "code",
   "execution_count": null,
   "metadata": {},
   "outputs": [],
   "source": [
    "def setZeros(matrix: List[List[int]]) -> None:\n",
    "    r={}\n",
    "    c={}\n",
    "    for i in range(len(matrix)):\n",
    "        for j in range(len(matrix[i])):\n",
    "            if i==0 or j==0:\n",
    "                r[i]=0\n",
    "                c[j]=1\n",
    "    for i in range(len(matrix)):\n",
    "         for j in range(len(matrix[i])):\n",
    "             if i==r[i] or j==c[i]:\n",
    "                 matrix[i]=0\n",
    "                 matrix[j]=1\n",
    "\n"
   ]
  },
  {
   "cell_type": "code",
   "execution_count": null,
   "metadata": {},
   "outputs": [],
   "source": [
    "def spiralPrint(mat, nRows, mCols): \n",
    "    result=[]\n",
    "    while (nRows>0 or mCols>0):\n",
    "        result.extend(boundaryTraversal(mat, nRows, mCols))\n",
    "        mat = [row[1:-1] for row in mat[1:-1]]\n",
    "        nRows= nRows - 2\n",
    "        mCols= mCols - 2\n",
    "    return result\n",
    "    \n",
    "def boundaryTraversal(matrix, n, m):\n",
    "    ans = []\n",
    "    if n == 1:\n",
    "        ans.append(matrix[0])\n",
    "    if m == 1:\n",
    "        ans.append(matrix[i][0] for i in range(n))\n",
    "    ans.extend(matrix[0])\n",
    "\n",
    "    for i in range(1, n):\n",
    "        ans.append(matrix[i][m - 1])\n",
    "\n",
    "    if n > 1:\n",
    "        ans.extend(matrix[n - 1][m - 2::-1])\n",
    "    if m > 1:\n",
    "        for i in range(n - 2, 0, -1):\n",
    "            ans.append(matrix[i][0])\n",
    "\n",
    "    return ans\n",
    "\n",
    "    "
   ]
  },
  {
   "cell_type": "code",
   "execution_count": null,
   "metadata": {},
   "outputs": [],
   "source": [
    "from sys import stdin\n",
    "\n",
    "def spiralPrint(mat, nRows, mCols): \n",
    "    result=[]\n",
    "    while nRows>0 and mCols>0:\n",
    "        result.extend(boundaryTraversal(mat, nRows, mCols))\n",
    "        mat = [row[1:-1] for row in mat[1:-1]]\n",
    "        nRows= nRows - 2\n",
    "        mCols= mCols - 2\n",
    "    return result\n",
    "    \n",
    "def boundaryTraversal(matrix, n, m):\n",
    "    ans = []\n",
    "    if n == 1:\n",
    "        ans.append(matrix[0])\n",
    "    if m == 1:\n",
    "        ans.append(matrix[i][0] for i in range(n))\n",
    "\n",
    "    ans.extend(matrix[0])\n",
    "    for i in range(1, n):\n",
    "        ans.append(matrix[i][m - 1])\n",
    "\n",
    "    if n > 1:\n",
    "        ans.extend(matrix[n - 1][m - 2::-1])\n",
    "    if m > 1:\n",
    "        for i in range(n - 2, 0, -1):\n",
    "            ans.append(matrix[i][0])\n",
    "\n",
    "    return ans\n"
   ]
  },
  {
   "cell_type": "code",
   "execution_count": null,
   "metadata": {},
   "outputs": [],
   "source": [
    "def spiralPrint(mat, nRows, mCols): \n",
    "    result = []\n",
    "    while nRows > 0 and mCols > 0:\n",
    "        result.append(boundaryTraversal(mat, nRows, mCols))\n",
    "        \n",
    "        mat = [row[1:-1] for row in mat[1:-1]]\n",
    "        \n",
    "        nRows -= 2\n",
    "        mCols -= 2\n",
    "    return result\n",
    "\n",
    "def boundaryTraversal(matrix, n, m):\n",
    "    ans = []\n",
    "    if n == 1:\n",
    "        ans.extend(matrix[0])\n",
    "    elif m == 1:\n",
    "        ans.extend(matrix[i][0] for i in range(n))\n",
    "    else:\n",
    "        ans.extend(matrix[0])\n",
    "\n",
    "        for i in range(1, n):\n",
    "            ans.append(matrix[i][m - 1])\n",
    "\n",
    "        if n > 1:\n",
    "            ans.extend(matrix[n - 1][m - 2::-1])\n",
    "\n",
    "        if m > 1:\n",
    "            for i in range(n - 2, 0, -1):\n",
    "                ans.append(matrix[i][0])\n",
    "\n",
    "    return ans\n",
    "\n"
   ]
  },
  {
   "cell_type": "code",
   "execution_count": null,
   "metadata": {},
   "outputs": [],
   "source": [
    "from sys import stdin\n",
    "\n",
    "def spiralPrint(mat, nRows, mCols): \n",
    "    result=[]\n",
    "    while nRows>0 and mCols>0:\n",
    "        result.extend(boundaryTraversal(mat, nRows, mCols))\n",
    "        mat = [row[1:-1] for row in mat[1:-1]]\n",
    "        nRows= nRows - 2\n",
    "        mCols= mCols - 2\n",
    "    return result\n",
    "    \n",
    "def boundaryTraversal(matrix, n, m):\n",
    "    ans = []\n",
    "    if n == 1:\n",
    "        ans.append(matrix[0])\n",
    "    if m == 1:\n",
    "        ans.append(matrix[i][0] for i in range(n))\n",
    "    ans.extend(matrix[0])\n",
    "\n",
    "    for i in range(1, n):\n",
    "        ans.append(matrix[i][m - 1])\n",
    "\n",
    "    if n > 1:\n",
    "        ans.extend(matrix[n - 1][m - 2::-1])\n",
    "    if m > 1:\n",
    "        for i in range(n - 2, 0, -1):\n",
    "            ans.append(matrix[i][0])\n",
    "\n",
    "    return ans"
   ]
  },
  {
   "cell_type": "code",
   "execution_count": null,
   "metadata": {},
   "outputs": [],
   "source": [
    "def minElementsToRemove(arr):\n",
    "    temp= set(arr)\n",
    "    return len(arr) - len(temp)"
   ]
  },
  {
   "cell_type": "code",
   "execution_count": null,
   "metadata": {},
   "outputs": [
    {
     "name": "stdout",
     "output_type": "stream",
     "text": [
      "g\n"
     ]
    }
   ],
   "source": [
    "def firstNonRepeatingCharacter(str):\n",
    "    store=[0]*52\n",
    "    first_half_offset = ord(\"Z\")\n",
    "    second_half_offset = ord(\"z\") + 32\n",
    "    for char in str:\n",
    "        ind = ord(char) - first_half_offset\n",
    "        if ind > 25:\n",
    "            ind = ord(char) - second_half_offset\n",
    "        \n",
    "        store[ind] += 1\n",
    "\n",
    "    ans = str[0]\n",
    "    for char in str:\n",
    "        ind = ord(char) - first_half_offset\n",
    "        if ind > 25:\n",
    "            ind = ord(char) - second_half_offset\n",
    "        \n",
    "        if store[ind] == 1:\n",
    "            if ind > 25:\n",
    "                ans = chr(ind + second_half_offset)\n",
    "            else:\n",
    "                ans = chr(ind + first_half_offset)\n",
    "            break\n",
    "    \n",
    "    return ans\n",
    "str=\"kgsxdkasykkoaeoofkvivxne\"\n",
    "print(firstNonRepeatingCharacter(str))"
   ]
  },
  {
   "cell_type": "code",
   "execution_count": null,
   "metadata": {},
   "outputs": [],
   "source": [
    "def firstNonRepeatingCharacter(str):\n",
    "    "
   ]
  },
  {
   "cell_type": "code",
   "execution_count": 11,
   "metadata": {},
   "outputs": [
    {
     "name": "stdout",
     "output_type": "stream",
     "text": [
      "t\n"
     ]
    }
   ],
   "source": [
    "def firstNonRepeatingCharacter(str):\n",
    "    store=[0]*52\n",
    "    first_half_offset = ord(\"A\")\n",
    "    second_half_offset = ord(\"a\") - 32\n",
    "    for char in str:\n",
    "        ind = ord(char) - first_half_offset\n",
    "        if ind > 25:\n",
    "            ind = ord(char) - second_half_offset\n",
    "        \n",
    "        store[ind] += 1\n",
    "\n",
    "    ans = str[0]\n",
    "    for char in str:\n",
    "        ind = ord(char) - first_half_offset\n",
    "        if ind > 25:\n",
    "            ind = ord(char) - second_half_offset\n",
    "        \n",
    "        if store[ind] == 1:\n",
    "            if ind > 25:\n",
    "                ans = chr(ind + second_half_offset)\n",
    "            else:\n",
    "                ans = chr(ind + first_half_offset)\n",
    "            break\n",
    "    \n",
    "    return ans\n",
    "str=\"t\"\n",
    "print(firstNonRepeatingCharacter(str))"
   ]
  },
  {
   "cell_type": "code",
   "execution_count": null,
   "metadata": {},
   "outputs": [],
   "source": [
    "def firstNonRepeatingCharacter(str):\n",
    "    store={}\n",
    "    for char in str:\n",
    "        if char in store:\n",
    "            store[char] +=1\n",
    "        else: \n",
    "            store[char]=1\n",
    "    ans = str[0] \n",
    "    for char in str:\n",
    "        if store[char]==1:\n",
    "            ans = char\n",
    "            break\n",
    "    return ans"
   ]
  },
  {
   "cell_type": "code",
   "execution_count": null,
   "metadata": {},
   "outputs": [],
   "source": [
    "def LongestSubsetWithZeroSum(arr):\n",
    "    c_sum=0\n",
    "    hmap={}\n",
    "    max_len=0\n",
    "\n",
    "    for i in range(len(arr)):\n",
    "        c_sum += arr[i]\n",
    "    \n",
    "        if c_sum == 0:\n",
    "            max_len= i+ 1\n",
    "\n",
    "        if c_sum in hmap:\n",
    "            max_len= max(max_len, i - hmap[c_sum])\n",
    "\n",
    "        else :\n",
    "            hmap[c_sum]=i\n",
    "    return max_len\n"
   ]
  },
  {
   "cell_type": "code",
   "execution_count": null,
   "metadata": {},
   "outputs": [],
   "source": [
    "def subArrayCount(arr, k):\n",
    "    remainder_count={0:1}\n",
    "    result=0\n",
    "    prefix_count=0\n",
    "    for num in arr:\n",
    "        prefix_count +=num\n",
    "        remainder =prefix_count % k\n",
    "        if remainder < 0:\n",
    "            remainder +=k\n",
    "        if remainder in remainder_count:\n",
    "            result += remainder_count[remainder]\n",
    "        if remainder in remainder_count:\n",
    "            remainder_count[remainder] +=1\n",
    "        else:\n",
    "            remainder_count[remainder] =1\n",
    "    return result\n"
   ]
  },
  {
   "cell_type": "code",
   "execution_count": 28,
   "metadata": {},
   "outputs": [
    {
     "name": "stdout",
     "output_type": "stream",
     "text": [
      "[['nat', 'tan'], ['ate', 'tea', 'eat'], ['bat']]\n"
     ]
    }
   ],
   "source": [
    "def getGroupedAnagrams(inputStr):\n",
    "    res_map={}\n",
    "    for element in inputStr:\n",
    "        resultpattern=alphacount(element)\n",
    "        if resultpattern in res_map:\n",
    "            res_map[resultpattern].append(element)\n",
    "        \n",
    "        else :\n",
    "            res_map[resultpattern] = [element]\n",
    "    result = [i for i in res_map.values()] \n",
    "    return result\n",
    "\n",
    "\n",
    "def alphacount(element):\n",
    "    alphabetmap={}\n",
    "    s = [e for e in element]\n",
    "    s.sort()\n",
    "    element = \"\".join(s)\n",
    "    resultpattern=\"\"\n",
    "    for char in element:\n",
    "        if char in alphabetmap:\n",
    "            alphabetmap[char] +=1\n",
    "        else :\n",
    "            alphabetmap[char] = 1\n",
    "    resultpattern = \"\".join([f\"{k}{v}\" for k, v in alphabetmap.items()])\n",
    "    return resultpattern\n",
    "        \n",
    "inputStr = {\"eat\",\"tea\",\"tan\",\"ate\",\"nat\",\"bat\"} \n",
    "print(getGroupedAnagrams(inputStr))    \n"
   ]
  },
  {
   "cell_type": "code",
   "execution_count": 31,
   "metadata": {},
   "outputs": [],
   "source": [
    "def pairSum(arr, n, target):\n",
    "    left = 0\n",
    "    right = n-1\n",
    "    result=0\n",
    "    while(left<right):\n",
    "        if arr[left] + arr[right] == target:\n",
    "            result = +1\n",
    "        elif arr[left] + arr[right] < target:\n",
    "            right -= right\n",
    "        else:\n",
    "            left += left\n",
    "    return result"
   ]
  },
  {
   "cell_type": "code",
   "execution_count": null,
   "metadata": {},
   "outputs": [],
   "source": [
    "def separateNegativeAndPositive(nums):\n",
    "    left = 0\n",
    "    temp=0\n",
    "    right = len(nums) - 1\n",
    "    while (left< right):\n",
    "        if nums[left] >= 0 and nums[right] < 0:\n",
    "            temp = nums[left]\n",
    "            nums[left]= nums[right]\n",
    "            nums[right] = temp\n",
    "            left +=1\n",
    "            right -=1\n",
    "        elif nums[left] >= 0 and nums[right] >= 0:\n",
    "            right -=1\n",
    "        elif nums[left] < 0 and nums[right] < 0:\n",
    "            left +=1\n",
    "        else:\n",
    "            left +=1\n",
    "            right -=1\n",
    "    return nums\n",
    "\n"
   ]
  },
  {
   "cell_type": "code",
   "execution_count": 27,
   "metadata": {},
   "outputs": [
    {
     "data": {
      "text/plain": [
       "False"
      ]
     },
     "execution_count": 27,
     "metadata": {},
     "output_type": "execute_result"
    }
   ],
   "source": [
    "def isSubSequence(str1, str2):  \n",
    "    str1pointer = 0\n",
    "    str2pointer = 0\n",
    "    str1len= len(str1)\n",
    "    str2len = len(str2)\n",
    "\n",
    "    while (str1pointer<=str2pointer and str1pointer< str1len and str2pointer < str2len):\n",
    "        if str1[str1pointer]==str2[str2pointer]:\n",
    "            if str1pointer == str1len- 1:\n",
    "                return True\n",
    "            elif str2pointer == str2len - 1:\n",
    "                return False\n",
    "            str1pointer +=1\n",
    "            str2pointer +=1\n",
    "\n",
    "        \n",
    "        elif str1[str1pointer]!=str2[str2pointer]:\n",
    "            if str2pointer == str2len - 1:\n",
    "                return False\n",
    "            str2pointer +=1\n",
    "            \n",
    "str1 =\"OQWA\"\n",
    "str2 =\"PLLNO\"\n",
    "isSubSequence(str1, str2)\n"
   ]
  },
  {
   "cell_type": "code",
   "execution_count": null,
   "metadata": {},
   "outputs": [],
   "source": [
    "def spiralPrint(mat, nRows, mCols):\n",
    "    # Initial boundaries\n",
    "    top, bottom, left, right = 0, nRows - 1, 0, mCols - 1\n",
    "    \n",
    "    while top <= bottom and left <= right:\n",
    "        # Print the top row (left to right)\n",
    "        for i in range(left, right + 1):\n",
    "            print(mat[top][i], end=\" \")\n",
    "        top += 1\n",
    "        \n",
    "        # Print the right column (top to bottom)\n",
    "        for i in range(top, bottom + 1):\n",
    "            print(mat[i][right], end=\" \")\n",
    "        right -= 1\n",
    "        \n",
    "        if top <= bottom:\n",
    "            # Print the bottom row (right to left)\n",
    "            for i in range(right, left - 1, -1):\n",
    "                print(mat[bottom][i], end=\" \")\n",
    "            bottom -= 1\n",
    "        \n",
    "        if left <= right:\n",
    "            # Print the left column (bottom to top)\n",
    "            for i in range(bottom, top - 1, -1):\n",
    "                print(mat[i][left], end=\" \")\n",
    "            left += 1\n",
    "\n"
   ]
  },
  {
   "cell_type": "code",
   "execution_count": null,
   "metadata": {},
   "outputs": [],
   "source": [
    "def isSubSequence(str1, str2):\n",
    " \n",
    "    count = 0\n",
    "    l1 = 0\n",
    "    l2 = 0\n",
    " \n",
    "    while l1 < len(str1) and l2 < len(str2):\n",
    "        if str1[l1] == str2[l2]:\n",
    "            l1 += 1\n",
    "        l2 += 1\n",
    "    \n",
    "    return len(str1) == l1"
   ]
  },
  {
   "cell_type": "code",
   "execution_count": null,
   "metadata": {},
   "outputs": [],
   "source": [
    "def maxArea(height):\n",
    "    j=len(height)-1\n",
    "    i=0\n",
    "    area=0\n",
    "    maxarea= 0\n",
    "    while i<j:\n",
    "        area=j-i* max(j,i)\n",
    "        if area > maxarea:\n",
    "            maxarea= area\n",
    "        if height[i]>height[j]:\n",
    "            j -=1\n",
    "        else:\n",
    "            i -=1\n",
    "    return maxarea\n",
    "\n",
    "\n"
   ]
  },
  {
   "cell_type": "code",
   "execution_count": null,
   "metadata": {},
   "outputs": [
    {
     "name": "stdout",
     "output_type": "stream",
     "text": [
      "[1, 2, 3, 4, 5, 6, 8]\n"
     ]
    }
   ],
   "source": [
    "def bubbleSort(arr,n):\n",
    "    swapped=True\n",
    "    for j in range (n-1):\n",
    "        if swapped == False:\n",
    "            break\n",
    "        for i in range (n-1):\n",
    "            if arr[i]>arr[i+1]:\n",
    "                temp= arr[i]\n",
    "                arr[i]=arr[i+1]\n",
    "                arr[i+1]=temp\n",
    "                swapped = True\n",
    "    return arr\n",
    "arr=[4,5,6,3,2,8,1]\n",
    "target= len(arr)\n",
    "print(bubbleSort(arr,target))"
   ]
  },
  {
   "cell_type": "code",
   "execution_count": null,
   "metadata": {},
   "outputs": [
    {
     "name": "stdout",
     "output_type": "stream",
     "text": [
      "[1, 2, 3, 4, 5, 6, 8]\n"
     ]
    }
   ],
   "source": [
    "def selectionSort(arr,n):\n",
    "    for i in range (n):\n",
    "        small= i\n",
    "        for j in range (i,n):\n",
    "            if arr[j] < arr[small]:\n",
    "                small = j\n",
    "        arr[i],arr[small]=arr[small],arr[i]\n",
    "    return arr\n",
    "\n",
    "arr=[4,5,6,3,2,8,1]\n",
    "target= len(arr)\n",
    "print(selectionSort(arr,target))"
   ]
  },
  {
   "cell_type": "code",
   "execution_count": null,
   "metadata": {},
   "outputs": [
    {
     "name": "stdout",
     "output_type": "stream",
     "text": [
      "[1, 2, 3, 4, 5, 6, 8]\n"
     ]
    }
   ],
   "source": [
    "from typing import List\n",
    "def insertionSort(arr: List[int], n: int):\n",
    "    for i in range(n-1):\n",
    "        current= arr[i+1]\n",
    "        j = i\n",
    "        while j+1>=0:\n",
    "            if  j+1>0 and current<arr[j]:\n",
    "                arr[j+1] = arr[j]\n",
    "            else:\n",
    "                arr[j+1] = current\n",
    "                break\n",
    "            j -=1\n",
    "    return arr\n",
    "arr=[4,5,6,3,2,8,1]\n",
    "target= len(arr)\n",
    "print(insertionSort(arr,target))"
   ]
  },
  {
   "cell_type": "code",
   "execution_count": null,
   "metadata": {},
   "outputs": [
    {
     "name": "stdout",
     "output_type": "stream",
     "text": [
      "0\n"
     ]
    }
   ],
   "source": [
    "def maxSubarraySum(arr, n) :\n",
    "    c_sum=0\n",
    "    max_sum=0\n",
    "    for i in range (n):\n",
    "        c_sum +=arr[i]\n",
    "        max_sum +=arr[i]\n",
    "        if c_sum<0:\n",
    "            c_sum=0\n",
    "        max_sum=max(c_sum,max_sum)\n",
    "    return max_sum\n",
    "arr=[-7,-8,-16,-4,-8,-5, -7, -11, -10, -12, -4, -6, -4, -16, -10 ]\n",
    "target=len(arr)\n",
    "print(maxSubarraySum(arr, target))"
   ]
  },
  {
   "cell_type": "code",
   "execution_count": null,
   "metadata": {},
   "outputs": [],
   "source": [
    "def sort012(arr, n) :\n",
    "    m,l=0,0\n",
    "    h=n-1\n",
    "    while m<=h:\n",
    "        if arr[m]==0:\n",
    "            arr[l], arr[m]= arr[m], arr[l]\n",
    "            l+=1\n",
    "            m+=1\n",
    "        elif arr[m]==1:\n",
    "            m+=1\n",
    "        else:\n",
    "            arr[h],arr[m]= arr[m],arr[h]\n",
    "            h -=1\n"
   ]
  },
  {
   "cell_type": "code",
   "execution_count": null,
   "metadata": {},
   "outputs": [
    {
     "name": "stdout",
     "output_type": "stream",
     "text": [
      "2\n"
     ]
    }
   ],
   "source": [
    "\n",
    "def floorSqrt(n):\n",
    "    start = 1\n",
    "    end = n // 2\n",
    "    result = 0\n",
    "    if n<2:\n",
    "        return n\n",
    "\n",
    "    while start <= end :\n",
    "        mid = (start + end) //2 \n",
    "        if mid ** 2 == n:\n",
    "            return mid\n",
    "        elif mid**2 > n:\n",
    "            end = mid-1\n",
    "        else:\n",
    "            start = mid+1\n",
    "            result = mid\n",
    "\n",
    "    return result\n",
    "    \n",
    "target=6\n",
    "print(floorSqrt(target))\n"
   ]
  },
  {
   "cell_type": "code",
   "execution_count": null,
   "metadata": {},
   "outputs": [
    {
     "name": "stdout",
     "output_type": "stream",
     "text": [
      "-1\n"
     ]
    }
   ],
   "source": [
    "def binsearch(arr,n):\n",
    "    start= 0\n",
    "    result = -1\n",
    "    end= len(arr)-1\n",
    "    while start <=end:\n",
    "        mid = start+(end - start)//2\n",
    "        if arr[mid] == n:\n",
    "            result = mid\n",
    "            return result\n",
    "        elif  n < arr[mid]:\n",
    "            end = mid-1\n",
    "        else:\n",
    "            start = mid+1\n",
    "    return result\n",
    "\n",
    "arr = [1,2,3,4,5,6,7,8,9,10,11,12,13,14,15,16]\n",
    "target= 87\n",
    "print(binsearch(arr,target))"
   ]
  },
  {
   "cell_type": "code",
   "execution_count": null,
   "metadata": {},
   "outputs": [],
   "source": [
    "def search(arr, target) :\n",
    "    start = 0 \n",
    "    end = len(arr)-1\n",
    "    \n",
    "    if arr[start]<arr[end]:\n",
    "        return binsearch(arr,target, start, end)\n",
    "    \n",
    "    while start<=end:\n",
    "        mid = start+(end - start)//2\n",
    "        if arr[mid]== target:\n",
    "            return mid\n",
    "        if arr[start] < arr[mid]:\n",
    "            if arr[mid]>= target >= arr[start]:\n",
    "                end = mid-1\n",
    "            else: \n",
    "                start = mid+1\n",
    "        else:\n",
    "            if arr[mid]<= target <= arr[end]:\n",
    "                start = mid+1\n",
    "            else: \n",
    "                end= mid -1\n",
    "                \n",
    "    return -1  \n",
    "\n",
    "def binsearch(arr , target, start, end):\n",
    "    result = -1\n",
    "    while start <=end:\n",
    "        mid = start+(end - start)//2\n",
    "        if arr[mid] == target:\n",
    "            result = mid\n",
    "            return result\n",
    "        elif  target < arr[mid]:\n",
    "            end = mid-1\n",
    "        else:\n",
    "            start = mid+1\n",
    "    return result\n"
   ]
  },
  {
   "cell_type": "code",
   "execution_count": null,
   "metadata": {},
   "outputs": [],
   "source": [
    "def search(arr, target) :\n",
    "    start = 0 \n",
    "    end = len(arr)-1\n",
    "    \n",
    "    while start<=end:\n",
    "        mid = start+(end - start)//2\n",
    "        if arr[mid]== target:\n",
    "            return mid\n",
    "        if arr[start] <= arr[mid]:\n",
    "            if arr[mid]>= target >= arr[start]:\n",
    "                end = mid-1\n",
    "            else: \n",
    "                start = mid+1\n",
    "        else:\n",
    "            if arr[mid]<= target <= arr[end]:\n",
    "                start = mid+1\n",
    "            else: \n",
    "                end= mid -1\n",
    "                \n",
    "    return -1  "
   ]
  },
  {
   "cell_type": "code",
   "execution_count": 75,
   "metadata": {},
   "outputs": [
    {
     "name": "stdout",
     "output_type": "stream",
     "text": [
      "34\n"
     ]
    }
   ],
   "source": [
    "def singleNonDuplicate(arr):\n",
    "    start = 0 \n",
    "    end = len(arr)-1\n",
    "    if len(arr)==1:\n",
    "        return arr[0]\n",
    "\n",
    "    while start<=end:\n",
    "        if start==end:\n",
    "            return arr[start]\n",
    "        mid = start+(end-start)//2\n",
    "        if arr[mid]!= arr[mid+1] and arr[mid]!= arr[mid-1]:\n",
    "            return arr[mid]\n",
    "        if arr[mid]==arr[mid-1] and (mid-start)%2 == 0:\n",
    "            start=mid+1\n",
    "        elif arr[mid]==arr[mid-1] and (mid-start)%2 != 0:\n",
    "            end = mid-1 \n",
    "        elif arr[mid]==arr[mid+1] and (end-mid)%2 == 0 :\n",
    "            start=mid+1\n",
    "        elif arr[mid]==arr[mid+1] and (end-mid)%2 != 0 :\n",
    "            end = mid-1\n",
    "    return -1\n",
    "\n",
    "\n",
    "arr = [8,15,15,32,32,34,34,38,38,40,40,41,41,42,42,46,46,47,47]\n",
    "print(singleNonDuplicate(arr))\n",
    "        "
   ]
  },
  {
   "cell_type": "code",
   "execution_count": 79,
   "metadata": {},
   "outputs": [],
   "source": [
    "def singleNonDuplicate(arr):\n",
    "    start = 0 \n",
    "    end = len(arr)-1\n",
    "    if len(arr)==1:\n",
    "        return arr[0]\n",
    "    while start<=end :\n",
    "        mid= start+(end-start)//2\n",
    "        if mid%2!=0:\n",
    "            mid=mid-1\n",
    "        if arr[mid]==arr[mid+1]:\n",
    "            start= mid\n",
    "        else:\n",
    "            end= mid-1\n",
    "    return arr[mid]\n",
    "\n"
   ]
  },
  {
   "cell_type": "code",
   "execution_count": null,
   "metadata": {},
   "outputs": [
    {
     "name": "stdout",
     "output_type": "stream",
     "text": [
      "False\n"
     ]
    }
   ],
   "source": [
    "def ispalindrome(string1):\n",
    "    if len(string1) == 0 or len(string1) == 1:\n",
    "        return True\n",
    "\n",
    "    lastIndex = len(string1) - 1\n",
    "    if string1[0] == string1[lastIndex]:\n",
    "        return ispalindrome(string1[1:lastIndex])\n",
    "    \n",
    "    return False\n",
    "\n",
    "\n",
    "\n",
    "\n",
    "\n",
    "strin=\"namans\"\n",
    "print(ispalindrome(strin))"
   ]
  },
  {
   "cell_type": "code",
   "execution_count": 16,
   "metadata": {},
   "outputs": [
    {
     "name": "stdout",
     "output_type": "stream",
     "text": [
      "True\n"
     ]
    }
   ],
   "source": [
    "def is_palindrome(strin):\n",
    "    l= 0\n",
    "    r= len(strin)-1\n",
    "    if len(strin)==0 or len(strin)==1:\n",
    "        return True\n",
    "    \n",
    "    return palindrome(l, r, strin)\n",
    "\n",
    "def palindrome(l,r,string1):\n",
    "    if l == r:\n",
    "        return True\n",
    "    \n",
    "    if r - l == 1:\n",
    "        return string1[r] == string1[l] \n",
    "\n",
    "    if string1[l]==string1[r]:\n",
    "        return palindrome(l+1, r-1, string1)\n",
    "    \n",
    "    return False\n",
    "\n",
    "\n",
    "string0=\"cacac\"    \n",
    "print(is_palindrome(string0))"
   ]
  },
  {
   "cell_type": "code",
   "execution_count": null,
   "metadata": {},
   "outputs": [],
   "source": [
    "\n",
    "def reccombination(arr):\n",
    "    if len(arr) == 0:\n",
    "        return \"\"\n",
    "    \n",
    "    if len(arr) == 1:\n",
    "        return arr[0]\n",
    "    \n",
    "    for i in range(len(arr)):\n",
    "        ar = []\n",
    "        ar.extend(arr[:i])\n",
    "        ar.extend(arr[i+1:])\n",
    "        print(arr[i] + reccombination(ar))\n",
    "\n",
    "\n",
    "arr=[\"a\",\"b\",\"c\"]\n",
    "print(reccombination(arr))\n"
   ]
  },
  {
   "cell_type": "code",
   "execution_count": 22,
   "metadata": {},
   "outputs": [
    {
     "name": "stdout",
     "output_type": "stream",
     "text": [
      "1\n",
      "2\n",
      "3\n",
      "4\n",
      "5\n"
     ]
    }
   ],
   "source": [
    "def printnums(n):\n",
    "    i=1\n",
    "    recprintnums(n,i)\n",
    "\n",
    "def recprintnums(n,i):\n",
    "    if i == n:\n",
    "        print(i)\n",
    "        return\n",
    "    print(i)\n",
    "    recprintnums(n, i+1)\n",
    "\n",
    "n=5\n",
    "printnums(n)"
   ]
  },
  {
   "cell_type": "code",
   "execution_count": 19,
   "metadata": {},
   "outputs": [
    {
     "name": "stdout",
     "output_type": "stream",
     "text": [
      "nazrat\n"
     ]
    }
   ],
   "source": [
    "def reversalword(string1):\n",
    "    if len(string1) == 0:\n",
    "        return \"\"\n",
    "    return string1[-1]+ reversalword(string1[:-1])\n",
    "\n",
    "string1=\"tarzan\"\n",
    "print(reversalword(string1))"
   ]
  },
  {
   "cell_type": "code",
   "execution_count": 21,
   "metadata": {},
   "outputs": [
    {
     "name": "stdout",
     "output_type": "stream",
     "text": [
      "15\n"
     ]
    }
   ],
   "source": [
    "def sumofno(n):\n",
    "    if n==0:\n",
    "        return 0\n",
    "    \n",
    "    return n + sumofno(n-1)\n",
    "n=5\n",
    "print(sumofno(n))"
   ]
  },
  {
   "cell_type": "code",
   "execution_count": null,
   "metadata": {},
   "outputs": [],
   "source": [
    "def print_numbers(n)\n",
    "    if \n",
    "\n",
    "    print n-(n-1) \n",
    "    print_numbers(n-1)\n",
    "\n",
    "n=5\n",
    "print(print_numbers(n))"
   ]
  },
  {
   "cell_type": "code",
   "execution_count": null,
   "metadata": {},
   "outputs": [],
   "source": [
    "def printnums(n):\n",
    "    if n == 0:  # Base case: Jab n zero ho jaye, ruk jao\n",
    "        return\n",
    "    \n",
    "    printnums(n - 1)  # Pehle chhoti problem ko solve kar (1 se n-1 tak print karega)\n",
    "    print(n)  # Uske baad n print karo\n",
    "\n",
    "n = 5\n",
    "printnums(n)"
   ]
  },
  {
   "cell_type": "code",
   "execution_count": null,
   "metadata": {},
   "outputs": [],
   "source": [
    "def printnumbersrev(n):\n",
    "    if n==0:\n",
    "        return\n",
    "    print(n)\n",
    "    printnumbersrev(n-1)\n",
    "printnumbersrev(5)"
   ]
  },
  {
   "cell_type": "code",
   "execution_count": 27,
   "metadata": {},
   "outputs": [
    {
     "name": "stdout",
     "output_type": "stream",
     "text": [
      "24\n"
     ]
    }
   ],
   "source": [
    "def factorial(n):\n",
    "    if n==0:\n",
    "        return 1\n",
    "    return n* factorial(n-1)\n",
    "print(factorial(4))"
   ]
  },
  {
   "cell_type": "code",
   "execution_count": null,
   "metadata": {},
   "outputs": [],
   "source": [
    "def fabnacci_series(n):\n",
    "    i=0\n",
    "    a=0\n",
    "    b=1\n",
    "    recfabonacci_series(n,a,b,i)\n",
    "\n",
    "def recfabonacci_series(n,a,b,i):\n",
    "    if i==n:\n",
    "        return\n",
    "    \n",
    "    print (a, end=\" \")\n",
    "    recfabonacci_series(n,b,a+b,i+1)\n",
    "\n",
    "fabnacci_series(20)\n",
    "        "
   ]
  },
  {
   "cell_type": "code",
   "execution_count": null,
   "metadata": {},
   "outputs": [
    {
     "name": "stdout",
     "output_type": "stream",
     "text": [
      "False\n"
     ]
    }
   ],
   "source": [
    "def check_palindrome(string1):\n",
    "    n=len(string1) \n",
    "    i=0\n",
    "    if rec_check_palindrome(string1,n,i):\n",
    "        print(True)\n",
    "    else:\n",
    "        print(False)\n",
    "def rec_check_palindrome(string1,n,i):\n",
    "    if i>=n:\n",
    "        return True\n",
    "    if string1[i]!=string1[n-1]:\n",
    "        return False\n",
    "    return rec_check_palindrome(string1,n-1,i+1)\n",
    "check_palindrome(\"namanman\")    \n"
   ]
  },
  {
   "cell_type": "code",
   "execution_count": null,
   "metadata": {},
   "outputs": [
    {
     "name": "stdout",
     "output_type": "stream",
     "text": [
      "125\n"
     ]
    }
   ],
   "source": [
    "def powerofno(x,n):\n",
    "    if n==0:\n",
    "        return 1\n",
    "    return x* powerofno(x,n-1)\n",
    "print(powerofno(5,3))"
   ]
  },
  {
   "cell_type": "code",
   "execution_count": 88,
   "metadata": {},
   "outputs": [
    {
     "name": "stdout",
     "output_type": "stream",
     "text": [
      "5\n"
     ]
    }
   ],
   "source": [
    "def countdigit(n, i=None):\n",
    "    if i == None:\n",
    "        i=0\n",
    "    if n==0:\n",
    "        return i\n",
    "    return countdigit(n//10,i+1)\n",
    "print(countdigit(12345))"
   ]
  },
  {
   "cell_type": "code",
   "execution_count": null,
   "metadata": {},
   "outputs": [
    {
     "name": "stdout",
     "output_type": "stream",
     "text": [
      "0098765430021\n"
     ]
    }
   ],
   "source": [
    "def rev_numbers(n,res=\"\"):\n",
    "    if n==0:\n",
    "        return int(res)\n",
    "    res= res + str(n%10)\n",
    "    \n",
    "    return rev_numbers(n//10,res)\n",
    "\n",
    "print(rev_numbers(1200345678900))\n",
    "    "
   ]
  },
  {
   "cell_type": "code",
   "execution_count": 111,
   "metadata": {},
   "outputs": [
    {
     "name": "stdout",
     "output_type": "stream",
     "text": [
      "15\n"
     ]
    }
   ],
   "source": [
    "def sumofdigit(n,res=None):\n",
    "    if res==None:\n",
    "        res=0\n",
    "    if n==0:\n",
    "        return res\n",
    "    res= res + n%10\n",
    "    return sumofdigit(n//10,res)\n",
    "print(sumofdigit(12345))\n"
   ]
  },
  {
   "cell_type": "code",
   "execution_count": 116,
   "metadata": {},
   "outputs": [
    {
     "name": "stdout",
     "output_type": "stream",
     "text": [
      "8\n"
     ]
    }
   ],
   "source": [
    "def count_occurence(n,digit,res=None):\n",
    "    if  res ==None:\n",
    "        res = 0\n",
    "    if n==0:\n",
    "        return res\n",
    "    if n%10==digit:\n",
    "        res+=1\n",
    "    return count_occurence(n//10, digit, res)\n",
    "\n",
    "\n",
    "\n",
    "print(count_occurence(1222342253422412,2))"
   ]
  },
  {
   "cell_type": "code",
   "execution_count": 123,
   "metadata": {},
   "outputs": [
    {
     "name": "stdout",
     "output_type": "stream",
     "text": [
      "28\n"
     ]
    }
   ],
   "source": [
    "def sumofeven(n,res=None):\n",
    "    if res==None:\n",
    "        res=0\n",
    "    if n==0:\n",
    "        return res\n",
    "    if (n%10)%2 == 0:\n",
    "        res = res + (n%10)\n",
    "    return sumofeven(n//10,res)\n",
    "\n",
    "print(sumofeven(1223456782341))\n"
   ]
  },
  {
   "cell_type": "code",
   "execution_count": 131,
   "metadata": {},
   "outputs": [
    {
     "name": "stdout",
     "output_type": "stream",
     "text": [
      "1 2 3 4 6 8 12 24 \n"
     ]
    }
   ],
   "source": [
    "def printfactors(n,i=None):\n",
    "    if i==None:\n",
    "        i=1\n",
    "    if i>n:\n",
    "        return \"\"\n",
    "    if n%i==0:\n",
    "        print(i, end=\" \")\n",
    "    return printfactors(n,i+1)\n",
    "\n",
    "print(printfactors(24))    \n",
    "    "
   ]
  },
  {
   "cell_type": "code",
   "execution_count": 135,
   "metadata": {},
   "outputs": [
    {
     "name": "stdout",
     "output_type": "stream",
     "text": [
      "6\n"
     ]
    }
   ],
   "source": [
    "def findGCD(n,m,i=None,res=None):\n",
    "    if i==None or res==None:\n",
    "        i,res = 1,1\n",
    "    if i>= min(n,m):\n",
    "        return res\n",
    "    if n%i == 0 and m%i ==0:\n",
    "        res= i\n",
    "    return findGCD(n,m,i+1,res)\n",
    "print(findGCD(48,18))\n"
   ]
  },
  {
   "cell_type": "code",
   "execution_count": 167,
   "metadata": {},
   "outputs": [
    {
     "name": "stdout",
     "output_type": "stream",
     "text": [
      "10\n"
     ]
    }
   ],
   "source": [
    "def binarysearch(arr,k,st=None,en=None):\n",
    "    if st==None and en==None:\n",
    "        st=0\n",
    "        en=len(arr)-1\n",
    "    mid = st + (en-st)// 2\n",
    "    if arr[mid] == k:\n",
    "        return mid+1\n",
    "    if arr[mid] > k:\n",
    "        return binarysearch(arr,k,st,mid)\n",
    "    else:\n",
    "        return binarysearch(arr,k,mid+1,en)\n",
    "arr = [1,2,3,4,5,6,7,8,9,10]\n",
    "n=10\n",
    "print(binarysearch(arr,n))"
   ]
  },
  {
   "cell_type": "code",
   "execution_count": 216,
   "metadata": {},
   "outputs": [
    {
     "name": "stdout",
     "output_type": "stream",
     "text": [
      "7\n"
     ]
    }
   ],
   "source": [
    "def findKthElement(arr1, arr2, k,i=None,j=None,count=None, num=None):\n",
    "    if i==None and j==None and count==None:\n",
    "        i,j,count = 0,0,0\n",
    "    if count==k:\n",
    "        return num\n",
    "    if i < len(arr1) and j<len(arr2):\n",
    "        if arr1[i]>arr2[j]:\n",
    "            num = arr2[j]\n",
    "            return findKthElement(arr1, arr2, k,i,j+1, count+1, num)\n",
    "        if arr1[i]<=arr2[j]:\n",
    "            num = arr1[i]\n",
    "            return findKthElement(arr1, arr2, k,i+1,j, count+1, num)\n",
    "    elif j >= len(arr2):\n",
    "        num=arr1[i]\n",
    "        return findKthElement(arr1, arr2, k,i+1,j, count+1, num)\n",
    "    elif i>=len(arr1):\n",
    "        num=arr2[j]\n",
    "        return findKthElement(arr1, arr2, k,i,j+1, count+1, num)\n",
    "ARR1 = [1, 1, 3, 4, 7, 9 ] \n",
    "ARR2 = [1, 4, 7, 8] \n",
    "K = 8\n",
    "print(findKthElement(ARR1,ARR2,K))"
   ]
  },
  {
   "cell_type": "code",
   "execution_count": null,
   "metadata": {},
   "outputs": [
    {
     "name": "stdout",
     "output_type": "stream",
     "text": [
      "0\n"
     ]
    }
   ],
   "source": [
    "def areAnagram(str1, str2):\n",
    "    if len(str1)!=len(str2):\n",
    "        return 0\n",
    "\n",
    "    sorted_str1=\"\".join(sorted(str1))\n",
    "    sorted_str2=\"\".join(sorted(str2))\n",
    "    if sorted_str1 != sorted_str2:\n",
    "        return 0\n",
    "    return 1\n",
    "\n",
    "STR1 = \"listen\"\n",
    "STR2 = \"silent\"\n",
    "print(areAnagram(STR1,STR2))"
   ]
  },
  {
   "cell_type": "code",
   "execution_count": null,
   "metadata": {},
   "outputs": [
    {
     "name": "stdout",
     "output_type": "stream",
     "text": [
      "[2, 2, 3]\n"
     ]
    }
   ],
   "source": [
    "def findArrayIntersection(arr: list, n: int, brr: list, m: int):\n",
    "    i=0\n",
    "    j=0\n",
    "    resarr=[]\n",
    "    while i<n and j<m:\n",
    "        if arr[i]==brr[j]:\n",
    "            resarr.append(arr[i])\n",
    "            i+=1\n",
    "            j+=1\n",
    "        elif arr[i]>brr[j]:\n",
    "            j+=1\n",
    "        else:\n",
    "            i+=1\n",
    "    return resarr\n",
    "arr=[1,2,2,2,3,4]\n",
    "brr=[2,2,3,3]\n",
    "print(findArrayIntersection(arr,len(arr),brr,len(brr)))"
   ]
  },
  {
   "cell_type": "code",
   "execution_count": 33,
   "metadata": {},
   "outputs": [
    {
     "name": "stdout",
     "output_type": "stream",
     "text": [
      "[6]\n"
     ]
    }
   ],
   "source": [
    "def majorityElementII(arr):\n",
    "    n=len(arr)//3\n",
    "    h_map={}\n",
    "    arr2=[]\n",
    "    for num in arr:\n",
    "        if num in h_map:\n",
    "            h_map[num] +=1\n",
    "        else:\n",
    "            h_map[num] = 1\n",
    "\n",
    "    for num in h_map:\n",
    "        if h_map[num]>n:\n",
    "            arr2.append(num)\n",
    "    return arr2\n",
    "\n",
    "arr=[6,6,6,7]\n",
    "print(majorityElementII(arr))"
   ]
  },
  {
   "cell_type": "code",
   "execution_count": null,
   "metadata": {},
   "outputs": [],
   "source": [
    "def majorityElementII(arr):\n",
    "    candidate1=None\n",
    "    candidate2=None\n",
    "    count1, count2 = 0,0\n",
    "\n",
    "    for i in range(n):\n",
    "        if count1==0:\n",
    "            candidate1 = arr[i]\n",
    "        elif count2==0:\n",
    "            candidate2= arr[i]\n",
    "        if  candidate1==arr[i]:\n",
    "            count1+=1\n",
    "        elif candidate2==arr[i]:\n",
    "            count2+=1\n",
    "        else:\n",
    "            count1-=1\n",
    "            count2-=1\n",
    "        result = []\n",
    "        counter = counter(arr)\n",
    "        n=len(arr)\n",
    "        if \n",
    "        return \n",
    "\n",
    "\n",
    "\n",
    "\n",
    "\n"
   ]
  },
  {
   "cell_type": "code",
   "execution_count": 2,
   "metadata": {},
   "outputs": [
    {
     "name": "stdout",
     "output_type": "stream",
     "text": [
      "Counter({2: 3, 1: 2, 3: 2, 4: 1, 5: 1, 6: 1, 7: 1})\n"
     ]
    }
   ],
   "source": [
    "from collections import *\n",
    "\n",
    "arr=[1,2,3,2,3,2,4,1,5,6,7]\n",
    "counter = Counter(arr)\n",
    "print(counter)"
   ]
  },
  {
   "cell_type": "code",
   "execution_count": null,
   "metadata": {},
   "outputs": [
    {
     "name": "stdout",
     "output_type": "stream",
     "text": [
      "[1, 2, 3, 4, 5, 6, 7]\n"
     ]
    }
   ],
   "source": [
    "def mergeSort1(arr, n, st=None, en=None):\n",
    "    if st== None and en==None:\n",
    "        st=0\n",
    "        en=len(arr)-1\n",
    "    if st==en:\n",
    "        return [arr[st]]\n",
    "    mid = st + (en-st)//2\n",
    "    left = mergeSort1(arr,n, st, mid)\n",
    "    right =  mergeSort1(arr, n, mid+1, en)\n",
    "    return merge1(left,right)\n",
    "\n",
    "def merge1(arr1,arr2):\n",
    "    i,j = 0,0\n",
    "    res=[]\n",
    "\n",
    "    while i<len(arr1) and j<len(arr2):\n",
    "        if arr1[i]<arr2[j]:\n",
    "            res.append(arr1[i])\n",
    "            i += 1\n",
    "        elif arr1[i]>=arr2[j]:\n",
    "            res.append(arr2[j])\n",
    "            j += 1\n",
    "\n",
    "    if i == len(arr1):\n",
    "        res.extend(arr2[j:])\n",
    "\n",
    "    if j == len(arr2):\n",
    "        res.extend(arr1[i:])\n",
    "    \n",
    "    return res\n",
    "        \n",
    "arr=[3,4,1,6,2,5,7]\n",
    "\n",
    "print(mergeSort1(arr,len(arr)))\n",
    "\n",
    "# arr1 = [1,3,5]\n",
    "# arr2 = [2,4,6,7]\n",
    "# print(merge1(arr1, arr2))\n",
    "\n"
   ]
  },
  {
   "cell_type": "code",
   "execution_count": null,
   "metadata": {},
   "outputs": [],
   "source": [
    "def mergeSort(arr, n, st=None, en=None):\n",
    "    if st== None and en==None:\n",
    "        st=0\n",
    "        en=len(arr)-1\n",
    "    if st==en:\n",
    "        return [arr[st]]\n",
    "    mid = st + (en-st)//2\n",
    "    left = mergeSort(arr,n, st, mid)\n",
    "    right =  mergeSort(arr, n, mid+1, en)\n",
    "    return merge(left,right)\n",
    "\n",
    "def merge(arr1,arr2,res=None,i=None,j=None):\n",
    "    if i == None and j== None and res==None:\n",
    "        i,j = 0,0\n",
    "        res=[]\n",
    "    if i==len(arr1):\n",
    "        res.extend(arr2[j:])\n",
    "        return res\n",
    "    if j==len(arr2):\n",
    "        res.extend(arr1[i:])\n",
    "        return res\n",
    "    if arr1[i]<arr2[j]:\n",
    "        res.append(arr1[i])\n",
    "        return merge(arr1,arr2,res,i+1,j)\n",
    "    if arr1[i]>=arr2[j]:\n",
    "        res.append(arr2[j])\n",
    "        return merge(arr1,arr2,res,i,j+1)"
   ]
  },
  {
   "cell_type": "code",
   "execution_count": null,
   "metadata": {},
   "outputs": [
    {
     "name": "stderr",
     "output_type": "stream",
     "text": [
      "\n",
      "KeyboardInterrupt\n",
      "\n"
     ]
    }
   ],
   "source": [
    "def quickSort(arr,st=None,en=None):\n",
    "    if st== None and en==None:\n",
    "        st=0\n",
    "        en=len(arr)-1\n",
    "    if st>=en:\n",
    "        return\n",
    "    pivotindex= partition(arr,st,en)\n",
    "    quickSort(arr, st , pivotindex-1)\n",
    "    quickSort(arr,pivotindex+1, en)\n",
    "\n",
    "def partition(arr,st,en):\n",
    "    j = st-1\n",
    "    pivot=arr[en]\n",
    "    i=st\n",
    "    while i < en:\n",
    "        if arr[i]<pivot:\n",
    "            j +=1\n",
    "            arr[i],arr[j]=arr[j],arr[i]\n",
    "            i +=1\n",
    "        else:\n",
    "            i +=1\n",
    "\n",
    "    j+=1\n",
    "    arr[j],arr[en]=arr[en],arr[j]\n",
    "    return j\n",
    "arr=[5,7,6,8,9,10,4]\n",
    "print(quickSort(arr))\n",
    "         \n",
    "    "
   ]
  }
 ],
 "metadata": {
  "kernelspec": {
   "display_name": "Python 3",
   "language": "python",
   "name": "python3"
  },
  "language_info": {
   "codemirror_mode": {
    "name": "ipython",
    "version": 3
   },
   "file_extension": ".py",
   "mimetype": "text/x-python",
   "name": "python",
   "nbconvert_exporter": "python",
   "pygments_lexer": "ipython3",
   "version": "3.13.1"
  }
 },
 "nbformat": 4,
 "nbformat_minor": 2
}
