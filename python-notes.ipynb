{
 "cells": [
  {
   "cell_type": "code",
   "execution_count": 2,
   "metadata": {},
   "outputs": [
    {
     "name": "stdout",
     "output_type": "stream",
     "text": [
      "2\n",
      "3\n",
      "4\n",
      "3\n",
      "2\n"
     ]
    }
   ],
   "source": [
    "\n",
    "for i in range(2, 4): # 2,3 (4 not included)\n",
    "  print(i)\n",
    "\n",
    "for i in range(4, 1, -1): # 4,3,2 (1 not included)\n",
    "  print(i)"
   ]
  },
  {
   "cell_type": "code",
   "execution_count": 3,
   "metadata": {},
   "outputs": [
    {
     "name": "stdout",
     "output_type": "stream",
     "text": [
      "2.5\n",
      "2\n",
      "-1.5\n",
      "-2\n",
      "-1\n"
     ]
    },
    {
     "data": {
      "text/plain": [
       "-inf"
      ]
     },
     "execution_count": 3,
     "metadata": {},
     "output_type": "execute_result"
    }
   ],
   "source": [
    "#Math\n",
    "\n",
    "print(5/2) # 2.5\n",
    "\n",
    "print(5//2) # 2\n",
    "\n",
    "print(-3/2) # -1.5 is what we expect\n",
    "print(-3//2) # -2, maybe not what we expect\n",
    "print(int(-3/2)) # Workaround -1\n",
    "\n",
    "# max int\n",
    "float(\"inf\")\n",
    "# min int\n",
    "float(\"-inf\")"
   ]
  },
  {
   "cell_type": "code",
   "execution_count": 1,
   "metadata": {},
   "outputs": [
    {
     "name": "stdout",
     "output_type": "stream",
     "text": [
      "5\n",
      "1\n",
      "[1, 1]\n"
     ]
    }
   ],
   "source": [
    "## Arrays or \"Lists\" in python\n",
    "\n",
    "n = 5\n",
    "arr = [1] * n # creates a list with [1,1,1,1,1]\n",
    "\n",
    "print(len(arr))\n",
    "\n",
    "# CAREFUL!!!! not out of bounds, would give you last element\n",
    "print(arr[-1])\n",
    "\n",
    "#Slicing\n",
    "print(arr[1:3]) # [1,1] doesn't include the 3rd element\n",
    "\n",
    "#unpacking\n",
    "a,b,c = [1,2,3] # a = 1, b = 2, c = 3"
   ]
  },
  {
   "cell_type": "code",
   "execution_count": 5,
   "metadata": {},
   "outputs": [
    {
     "name": "stdout",
     "output_type": "stream",
     "text": [
      "1\n",
      "2\n",
      "3\n",
      "1\n",
      "2\n",
      "3\n",
      "0 1\n",
      "1 2\n",
      "2 3\n"
     ]
    }
   ],
   "source": [
    "# looping arrays\n",
    "nums = [1,2,3]\n",
    "## Using Index\n",
    "\n",
    "for i in range(len(nums)):\n",
    "  print(nums[i])\n",
    "\n",
    "## Using for in\n",
    "for num in nums:\n",
    "  print(num)\n",
    "\n",
    "## Enumerate over the list\n",
    "for i, n in enumerate(nums):\n",
    "  print(i, n) # returns  0 1 /n 1 2 /n 2 3"
   ]
  },
  {
   "cell_type": "code",
   "execution_count": 6,
   "metadata": {},
   "outputs": [
    {
     "name": "stdout",
     "output_type": "stream",
     "text": [
      "1 2\n",
      "3 4\n",
      "5 6\n"
     ]
    }
   ],
   "source": [
    "## Combining both arrays and using unpacking\n",
    "nums1 = [1,3,5]\n",
    "nums2 = [2,4,6]\n",
    "\n",
    "for n1, n2 in zip(nums1, nums2):\n",
    "  print(n1, n2)"
   ]
  },
  {
   "cell_type": "code",
   "execution_count": 7,
   "metadata": {},
   "outputs": [
    {
     "name": "stdout",
     "output_type": "stream",
     "text": [
      "[3, 4, 5, 7, 8]\n",
      "[8, 7, 5, 4, 3]\n"
     ]
    }
   ],
   "source": [
    "# Sorting\n",
    "arr = [5, 4, 7, 3, 8]\n",
    "arr.sort()\n",
    "print(arr)\n",
    "\n",
    "arr.sort(reverse=True)\n",
    "print(arr)"
   ]
  },
  {
   "cell_type": "code",
   "execution_count": 8,
   "metadata": {},
   "outputs": [
    {
     "name": "stdout",
     "output_type": "stream",
     "text": [
      "['bob', 'ben', 'alice', 'margret']\n"
     ]
    }
   ],
   "source": [
    "customArr = ['alice', 'bob', 'ben', 'margret']\n",
    "## Custom sorting\n",
    "customArr.sort(key=lambda x: len(x))\n",
    "print(customArr)"
   ]
  },
  {
   "cell_type": "code",
   "execution_count": 9,
   "metadata": {},
   "outputs": [
    {
     "name": "stdout",
     "output_type": "stream",
     "text": [
      "[0, 1, 2, 3, 4]\n",
      "[0, 2, 4, 6, 8]\n"
     ]
    }
   ],
   "source": [
    "## List Comprehension\n",
    "arr = [ i for i in range(5)]\n",
    "print(arr)\n",
    "\n",
    "arr = [i*2 for i in range(5)]\n",
    "print(arr)"
   ]
  },
  {
   "cell_type": "code",
   "execution_count": 10,
   "metadata": {},
   "outputs": [
    {
     "name": "stdout",
     "output_type": "stream",
     "text": [
      "[[0, 0, 0, 0], [0, 0, 0, 0], [0, 0, 0, 0], [0, 0, 0, 0]]\n"
     ]
    }
   ],
   "source": [
    "#2D Lists\n",
    "arr2D = [[0] * 4 for i in range(4)]\n",
    "print(arr2D)"
   ]
  },
  {
   "cell_type": "code",
   "execution_count": 11,
   "metadata": {},
   "outputs": [
    {
     "name": "stdout",
     "output_type": "stream",
     "text": [
      "ab\n",
      "246\n",
      "123123\n"
     ]
    }
   ],
   "source": [
    "# Strings are similar to arrays\n",
    "s = \"abc\"\n",
    "print(s[0:2])\n",
    "\n",
    "# So this creates a new string\n",
    "s += \"def\"\n",
    "\n",
    "# Valid numeric strings can be converted\n",
    "print(int(\"123\") + int(\"123\"))\n",
    "\n",
    "# And numbers can be converted to strings\n",
    "print(str(123) + str(123))"
   ]
  },
  {
   "cell_type": "code",
   "execution_count": 12,
   "metadata": {},
   "outputs": [
    {
     "name": "stdout",
     "output_type": "stream",
     "text": [
      "97\n",
      "98\n"
     ]
    }
   ],
   "source": [
    "## In rare cases you may need the ASCII value\n",
    "# of a char\n",
    "print(ord(\"a\"))\n",
    "print(ord(\"b\"))"
   ]
  },
  {
   "cell_type": "code",
   "execution_count": 13,
   "metadata": {},
   "outputs": [
    {
     "name": "stdout",
     "output_type": "stream",
     "text": [
      "ab cd ef\n"
     ]
    }
   ],
   "source": [
    "# Combine a list of strings (with an empty string delimiter)\n",
    "strings = [\"ab\", \"cd\", \"ef\"]\n",
    "print(\" \".join(strings))"
   ]
  },
  {
   "cell_type": "code",
   "execution_count": 14,
   "metadata": {},
   "outputs": [
    {
     "name": "stdout",
     "output_type": "stream",
     "text": [
      "deque([1, 2])\n",
      "deque([2])\n"
     ]
    }
   ],
   "source": [
    "# Queues (double ended queue)\n",
    "from collections import deque\n",
    "\n",
    "queue = deque()\n",
    "queue. append(1)\n",
    "queue. append(2)\n",
    "print(queue)\n",
    "\n",
    "queue.popleft()\n",
    "print(queue)"
   ]
  },
  {
   "cell_type": "code",
   "execution_count": 15,
   "metadata": {},
   "outputs": [
    {
     "name": "stdout",
     "output_type": "stream",
     "text": [
      "{1, 2}\n",
      "2\n",
      "True\n",
      "{1, 2, 3}\n"
     ]
    }
   ],
   "source": [
    "# HashSet\n",
    "mySet = set()\n",
    "\n",
    "mySet.add(1)\n",
    "mySet.add(2)\n",
    "print(mySet)\n",
    "print(len(mySet))\n",
    "print(1 in mySet)\n",
    "\n",
    "# list to set\n",
    "print(set([1, 2, 3]))\n",
    "\n",
    "# Set comprehension\n",
    "mySet = { i for i in range(5) }"
   ]
  },
  {
   "cell_type": "code",
   "execution_count": 16,
   "metadata": {},
   "outputs": [
    {
     "name": "stdout",
     "output_type": "stream",
     "text": [
      "{'alice': 88, 'bob': 77}\n",
      "2\n",
      "80\n",
      "True\n",
      "False\n",
      "alice 90\n",
      "bob 70\n",
      "90\n",
      "70\n",
      "alice 90\n",
      "bob 70\n"
     ]
    }
   ],
   "source": [
    "# HashMap (aka dict)\n",
    "myMap = {}\n",
    "myMap[\"alice\"] = 88\n",
    "myMap[\"bob\"] = 77\n",
    "print(myMap)\n",
    "print(len(myMap))\n",
    "\n",
    "myMap[\"alice\"] = 80\n",
    "print(myMap[\"alice\"])\n",
    "\n",
    "print(\"alice\" in myMap)\n",
    "myMap.pop(\"alice\")\n",
    "print(\"alice\" in myMap)\n",
    "\n",
    "myMap = { \"alice\": 90, \"bob\": 70 }\n",
    "\n",
    "# Dict comprehension\n",
    "myMap = { i: 2*i for i in range(3) }\n",
    "# Looping through maps\n",
    "myMap = { \"alice\": 90, \"bob\": 70 }\n",
    "\n",
    "for key in myMap:\n",
    "  print(key, myMap[key])\n",
    "\n",
    "for val in myMap.values():\n",
    "  print(val)\n",
    "\n",
    "for key, val in myMap.items():\n",
    "  print(key, val)"
   ]
  },
  {
   "cell_type": "code",
   "execution_count": 17,
   "metadata": {},
   "outputs": [
    {
     "name": "stdout",
     "output_type": "stream",
     "text": [
      "3\n",
      "True\n"
     ]
    }
   ],
   "source": [
    "# Can be used as key for hash map/set\n",
    "myMap = { (1,2): 3}\n",
    "print(myMap[(1,2)])\n",
    "\n",
    "mySet = set()\n",
    "mySet.add((1, 2))\n",
    "print((1, 2) in mySet)\n",
    "\n",
    "# Lists can't be keys\n",
    "# myMap[[3,4]] = 5 won't work"
   ]
  },
  {
   "cell_type": "code",
   "execution_count": 18,
   "metadata": {},
   "outputs": [
    {
     "name": "stdout",
     "output_type": "stream",
     "text": [
      "2\n",
      "2\n",
      "3\n",
      "4\n"
     ]
    }
   ],
   "source": [
    "# Heaps\n",
    "import heapq\n",
    "\n",
    "# under the hood are arrays\n",
    "minHeap = []\n",
    "heapq. heappush (minHeap, 3)\n",
    "heapq. heappush (minHeap, 2)\n",
    "heapq.heappush (minHeap, 4)\n",
    "\n",
    "# Min is always at index 0\n",
    "print(minHeap[0])\n",
    "\n",
    "while len(minHeap):\n",
    "  print(heapq.heappop(minHeap))"
   ]
  },
  {
   "cell_type": "code",
   "execution_count": 19,
   "metadata": {},
   "outputs": [
    {
     "name": "stdout",
     "output_type": "stream",
     "text": [
      "4\n",
      "4\n",
      "3\n",
      "2\n"
     ]
    }
   ],
   "source": [
    "# Heaps\n",
    "import heapq\n",
    "# No max heaps by default, work around is\n",
    "# to use min heap and multiply by -1 when\n",
    "# push & pop.\n",
    "maxHeap = []\n",
    "heapq.heappush(maxHeap, -3)\n",
    "heapq.heappush(maxHeap, -2)\n",
    "heapq.heappush(maxHeap, -4)\n",
    "\n",
    "# Max is always at index 0\n",
    "print(-1 * maxHeap[0])\n",
    "\n",
    "while len(maxHeap):\n",
    "  print(-1 * heapq.heappop(maxHeap))\n"
   ]
  },
  {
   "cell_type": "code",
   "execution_count": 20,
   "metadata": {},
   "outputs": [
    {
     "name": "stdout",
     "output_type": "stream",
     "text": [
      "1\n",
      "2\n",
      "4\n",
      "5\n",
      "8\n",
      "12\n"
     ]
    }
   ],
   "source": [
    "# Heaps\n",
    "import heapq\n",
    "# Build heap from initial values\n",
    "arr = [2, 1, 8, 4, 5]\n",
    "heapq.heapify(arr)\n",
    "\n",
    "while arr:\n",
    "  print(heapq.heappop(arr))\n",
    "\n",
    "# Functions\n",
    "def myFunc(n, m):\n",
    "  return n * m\n",
    "\n",
    "print(myFunc(3,4))"
   ]
  },
  {
   "cell_type": "code",
   "execution_count": 21,
   "metadata": {},
   "outputs": [
    {
     "name": "stdout",
     "output_type": "stream",
     "text": [
      "abc\n"
     ]
    }
   ],
   "source": [
    "# Nested functions have access to outer\n",
    "# variables\n",
    "def outer(a, b):\n",
    "  c = \"c\"\n",
    "\n",
    "  def inner():\n",
    "    return a + b + c\n",
    "\n",
    "  return inner()\n",
    "\n",
    "\n",
    "print(outer(\"a\",\"b\"))"
   ]
  },
  {
   "cell_type": "code",
   "execution_count": 22,
   "metadata": {},
   "outputs": [
    {
     "name": "stdout",
     "output_type": "stream",
     "text": [
      "[2, 4] 6\n"
     ]
    }
   ],
   "source": [
    "\n",
    "# Can modify objects but not reassign\n",
    "# unless using nonlocal keyword\n",
    "def double(arr, val):\n",
    "  def helper():\n",
    "    # Modifying array works\n",
    "    for i, n in enumerate(arr):\n",
    "      arr[i] *= 2\n",
    "\n",
    "    # will only modify val in the helper scope\n",
    "    # val *= 2\n",
    "\n",
    "    # this will modify val outside helper scope\n",
    "    nonlocal val\n",
    "    val *= 2\n",
    "  helper()\n",
    "  print(arr, val)\n",
    "\n",
    "nums = [1, 2]\n",
    "val = 3\n",
    "double(nums, val)"
   ]
  },
  {
   "cell_type": "code",
   "execution_count": 23,
   "metadata": {},
   "outputs": [
    {
     "name": "stdout",
     "output_type": "stream",
     "text": [
      "6\n",
      "3\n"
     ]
    }
   ],
   "source": [
    "# Class\n",
    "class MyClass:\n",
    "  # Constructor\n",
    "  def __init__(self, nums):\n",
    "    # Create member variables\n",
    "    self.nums = nums\n",
    "    self.size = len(nums)\n",
    "\n",
    "  # self key word required as param\n",
    "  def getLength(self):\n",
    "    return self.size\n",
    "\n",
    "  def getDoubleLength(self):\n",
    "    return 2 * self.getLength()\n",
    "\n",
    "cl = MyClass([1,2,3])\n",
    "\n",
    "print(cl.getDoubleLength())\n",
    "print(cl.getLength())"
   ]
  },
  {
   "cell_type": "code",
   "execution_count": 2,
   "metadata": {},
   "outputs": [
    {
     "name": "stdout",
     "output_type": "stream",
     "text": [
      "true\n"
     ]
    }
   ],
   "source": [
    "a = \"j a j\"\n",
    "if a == a[::-1]:\n",
    "        print (\"true\")\n",
    "else:\n",
    "        print (\"false\")"
   ]
  }
 ],
 "metadata": {
  "kernelspec": {
   "display_name": "Python 3",
   "language": "python",
   "name": "python3"
  },
  "language_info": {
   "codemirror_mode": {
    "name": "ipython",
    "version": 3
   },
   "file_extension": ".py",
   "mimetype": "text/x-python",
   "name": "python",
   "nbconvert_exporter": "python",
   "pygments_lexer": "ipython3",
   "version": "3.13.1"
  }
 },
 "nbformat": 4,
 "nbformat_minor": 2
}
